{
  "nbformat": 4,
  "nbformat_minor": 0,
  "metadata": {
    "colab": {
      "provenance": [],
      "include_colab_link": true
    },
    "kernelspec": {
      "name": "python3",
      "display_name": "Python 3"
    },
    "language_info": {
      "name": "python"
    }
  },
  "cells": [
    {
      "cell_type": "markdown",
      "metadata": {
        "id": "view-in-github",
        "colab_type": "text"
      },
      "source": [
        "<a href=\"https://colab.research.google.com/github/AlexShcherb1173/helloworld/blob/master/%D0%A3%D1%80%D0%BE%D0%BA_6_2.ipynb\" target=\"_parent\"><img src=\"https://colab.research.google.com/assets/colab-badge.svg\" alt=\"Open In Colab\"/></a>"
      ]
    },
    {
      "cell_type": "markdown",
      "metadata": {
        "id": "cQkE_A2Eoh5B"
      },
      "source": [
        "## Функции"
      ]
    },
    {
      "cell_type": "markdown",
      "metadata": {
        "id": "EZiGhhvZsQCp"
      },
      "source": [
        "### Пример функции"
      ]
    },
    {
      "cell_type": "markdown",
      "metadata": {
        "id": "FbcTuEO4JoKO"
      },
      "source": [
        "int(a)\n",
        "bool(a)\n",
        "type(a)\n",
        "print(a)\n",
        "len(a)\n",
        "range(a,b)\n"
      ]
    },
    {
      "cell_type": "markdown",
      "metadata": {
        "id": "JkDb3K4bsQsP"
      },
      "source": [
        "Вы уже писали программу, которая кодирует буквы с помощью слов. Давайте напишем эту программу с использованием функции."
      ]
    },
    {
      "cell_type": "code",
      "metadata": {
        "id": "Qiz2zDp4sRUy"
      },
      "source": [
        "def alfa_tango():\n",
        "    my_str = 'Papa Yankee Tango Hotel Oscar November'\n",
        "    list_str = my_str.split()\n",
        "\n",
        "    new_str = ''\n",
        "    for word in list_str:\n",
        "        new_str += word[0]\n",
        "\n",
        "    print(new_str)\n",
        "\n",
        "\n",
        "alfa_tango()"
      ],
      "execution_count": null,
      "outputs": []
    },
    {
      "cell_type": "markdown",
      "metadata": {
        "id": "uiSMn90Htw8h"
      },
      "source": [
        "### Синтаксис функций"
      ]
    },
    {
      "cell_type": "markdown",
      "metadata": {
        "id": "y9_2iZTxtyCL"
      },
      "source": [
        "В языке программирования Python функции определяются с помощью оператора `def`.\n",
        "Ключевое слово `def` сообщает Python, что перед ним определение функции. После `def` пишем имя функции. Оно может быть любым — так же, как и всякий идентификатор, например переменная. В программировании желательно давать всему осмысленные имена.\n",
        "\n",
        "После имени функции ставятся скобки. В приведенном примере они пустые. Это значит, что функция не принимает никаких данных из вызывающей ее программы. Однако она могла бы их принимать, и тогда в скобках были бы указаны так называемые параметры.\n",
        "\n",
        "После двоеточия следует тело, содержащее инструкции, которые выполняются при вызове функции. Тело функции имеет отступ. Следует различать определение функции и ее вызов. В программном коде они не рядом и не вместе. Можно определить функцию, но ни разу ее не вызвать. Нельзя вызвать функцию, которая не была определена. Определив функцию, но ни разу не вызвав ее, вы никогда не выполните ее тела."
      ]
    },
    {
      "cell_type": "markdown",
      "metadata": {
        "id": "m8malOr7vBmZ"
      },
      "source": [
        "Чтобы вызвать функцию, мы пишем ее имя и ставим круглые скобки:\n",
        "\n",
        "`> alfa_tango()`\n"
      ]
    },
    {
      "cell_type": "markdown",
      "metadata": {
        "id": "h-iAnpJ2AHe4"
      },
      "source": [
        "## Возвращаемые значения"
      ]
    },
    {
      "cell_type": "markdown",
      "metadata": {
        "id": "_7GKdXymKX6F"
      },
      "source": [
        "Разберем работу `return` на примере калькулятора."
      ]
    },
    {
      "cell_type": "code",
      "metadata": {
        "id": "H_uvJ4DgKhjW"
      },
      "source": [
        "def input_action():\n",
        "    action_list = ['+', '-', '*', '/']\n",
        "    while True:\n",
        "        action = input('Введите знак действия: +, -, *, / или q для выхода \\n')\n",
        "        if action == 'q':\n",
        "            exit()\n",
        "        if action in action_list:\n",
        "            return action\n",
        "\n",
        "\n",
        "def input_number(message):\n",
        "    while True:\n",
        "        number = input(f'{message} ')\n",
        "        if number.isdigit():\n",
        "            return float(number)\n",
        "        else:\n",
        "            print('Вы ввели не число')\n",
        "\n",
        "\n",
        "def calc(first_number, second_number, action):\n",
        "    if action == '+':\n",
        "        return first_number + second_number\n",
        "    elif action == '-':\n",
        "        return first_number - second_number\n",
        "    elif action == '*':\n",
        "        return first_number * second_number\n",
        "    elif action == '/':\n",
        "        return first_number / second_number\n",
        "\n",
        "\n",
        "def main():\n",
        "    action = input_action()\n",
        "    first_number = input_number('Введите первое число: ')\n",
        "    second_number = input_number('Введите второе число: ')\n",
        "    result = calc(first_number, second_number, action)\n",
        "    print(f'{first_number} {action} {second_number} = {result}')\n",
        "\n",
        "\n",
        "main()"
      ],
      "execution_count": null,
      "outputs": []
    },
    {
      "cell_type": "markdown",
      "metadata": {
        "id": "xtWSHDMOLiqE"
      },
      "source": [
        "Функция `main` — это управляющая функция. Она запускает все остальные функции.\n",
        "\n",
        "Сначала мы просим пользователя ввести знак арифметического действия, вызвав функцию `input_action`. Если он введет что-то отличное от +, -, *, / или q, программа попросит ввести знак повторно. Если пользователь ввел верный знак, то функция `input_action` вернет знак арифметического действия, и мы занесем его в переменную `action`.\n",
        "\n",
        "Затем мы вызываем функцию `input_number`, передавая ей в качестве аргумента строку с сообщением. Функция `input_number` попросит пользователя ввести число. Если пользователь введет что-то отличное от числа, то программа сообщит об этом и попросит ввести число повторно. Если пользователь введет число, то функция `input_number` вернет это число, и мы это значение занесем в переменную `first_number` и `second_number`.\n",
        "\n",
        "Затем, когда мы уже точно уверены, что к нам поступили верные данные, функции `input_action` и `input_number` их проверили, мы вызываем функцию `calc` и передаем ей в качестве аргументов два числа и знак арифметического действия. В функции `calc` мы выполним арифметическую операцию в зависимости от того, какой знак арифметического действия мы передали в аргументах. И функция `calc` вернет нам результат. После чего мы данный результат занесем в переменную `result`.\n",
        "\n",
        "И выведем на экран сообщение с результатом арифметического действия.\n",
        "\n",
        "`return` позволяет нам получить результат работы функции и использовать его дальше в нашей программе.\n"
      ]
    },
    {
      "cell_type": "markdown",
      "metadata": {
        "id": "oS4XGGkn0cJo"
      },
      "source": [
        "##Обязательные аргументы функции"
      ]
    },
    {
      "cell_type": "markdown",
      "metadata": {
        "id": "5aYNotFWwADD"
      },
      "source": [
        "Когда функция вызывается, то ей передаются аргументы. Мы можем передать числа."
      ]
    },
    {
      "cell_type": "code",
      "metadata": {
        "id": "QLlOu8q10gS5",
        "colab": {
          "base_uri": "https://localhost:8080/"
        },
        "outputId": "300e9fc8-c9a6-4158-ebb1-17725b672ea6"
      },
      "source": [
        "def with_tax(value, tax_percenage):\n",
        "  total = value + value * tax_percenage / 100\n",
        "\n",
        "  return total\n",
        "\n",
        "\n",
        "print(with_tax(10000, 6))"
      ],
      "execution_count": null,
      "outputs": [
        {
          "output_type": "stream",
          "name": "stdout",
          "text": [
            "10600.0\n"
          ]
        }
      ]
    },
    {
      "cell_type": "markdown",
      "metadata": {
        "id": "w43ToSm302js"
      },
      "source": [
        "А можем передать переменные.\n",
        "\n"
      ]
    },
    {
      "cell_type": "code",
      "metadata": {
        "id": "XWeY8RHivdl7",
        "colab": {
          "base_uri": "https://localhost:8080/"
        },
        "outputId": "0135e155-8b69-43f0-ea72-ae76abde4c06"
      },
      "source": [
        "def with_tax(value, tax_percenage):\n",
        "  total = value + value * tax_percenage / 100\n",
        "\n",
        "  return total\n",
        "\n",
        "\n",
        "salary = 10000\n",
        "income_tax = 6\n",
        "\n",
        "total = with_tax(salary, income_tax)\n",
        "\n",
        "print(total)"
      ],
      "execution_count": null,
      "outputs": [
        {
          "output_type": "stream",
          "text": [
            "10600.0\n"
          ],
          "name": "stdout"
        }
      ]
    },
    {
      "cell_type": "markdown",
      "metadata": {
        "id": "VyjFpxq3vdx9"
      },
      "source": [
        "На самом деле передаются не эти переменные, а их значения.\n",
        "В данном случае числа мы могли бы писать так:\n",
        "\n",
        "`> with_tax(10000, 13)`\n",
        "\n",
        "Разницы не было бы.\n",
        "\n",
        "Когда интерпретатор переходит к функции, чтобы начать ее исполнение, он присваивает переменным-параметрам переданные в функцию значения-аргументы. В примере переменной `value` будет присвоено 10000, а `tax_percentage` будет присвоено 13."
      ]
    },
    {
      "cell_type": "markdown",
      "metadata": {
        "id": "qIPGmhvLAIAT"
      },
      "source": [
        "### Локальные переменные"
      ]
    },
    {
      "cell_type": "markdown",
      "metadata": {
        "id": "6ugmay9lAGg2"
      },
      "source": [
        "Когда мы объявляем переменную в функции, то она видна только в этой функции. Переменные за функцией видны в функции. А теперь давайте разбираться на примере."
      ]
    },
    {
      "cell_type": "code",
      "metadata": {
        "id": "r0GQH5rFBeuM",
        "colab": {
          "base_uri": "https://localhost:8080/"
        },
        "outputId": "c47d503c-f0b5-4919-f34c-1b995ea63bbf"
      },
      "source": [
        "a = 3\n",
        "\n",
        "print(\"Global a = \", a)\n",
        "\n",
        "\n",
        "def fun():\n",
        "    a = 4\n",
        "    print(\"Local a = \", a)\n",
        "\n",
        "\n",
        "fun()\n",
        "\n",
        "print(\"Global a = \", a)"
      ],
      "execution_count": null,
      "outputs": [
        {
          "output_type": "stream",
          "text": [
            "Global a =  3\n",
            "Local a =  4\n",
            "Global a =  3\n"
          ],
          "name": "stdout"
        }
      ]
    },
    {
      "cell_type": "markdown",
      "metadata": {
        "id": "Jr_jcMR0BegE"
      },
      "source": [
        "Мы объявляем глобальную переменную `a`, затем такую же переменную `a` объявим внутри функции и присвоим ей другое значение.\n",
        "И сделаем вывод в консоль значения переменной `а` до функции, в функции и после ее выполнения.\n",
        "Таким образом, мы видим, что переменная `a` внутри функции локальна и никак не влияет на глобальную переменную `а`. Это две разные переменные."
      ]
    },
    {
      "cell_type": "markdown",
      "metadata": {
        "id": "-Ee-1BCuDE9A"
      },
      "source": [
        "Но функция может видеть глобальные переменные, если мы не меняем ее значение внутри функции. Вот пример без объявления переменной `а` в функции."
      ]
    },
    {
      "cell_type": "code",
      "metadata": {
        "id": "6kVGnc1eC_I2",
        "colab": {
          "base_uri": "https://localhost:8080/"
        },
        "outputId": "1e8eb3b1-9ec8-4eb9-b1ac-3e419855b771"
      },
      "source": [
        "a = 30\n",
        "\n",
        "print(\"Global a = \", a)\n",
        "\n",
        "\n",
        "def fun():\n",
        "    print(\"Local a = \", a)\n",
        "\n",
        "\n",
        "fun()\n",
        "\n",
        "print(\"Global a = \", a)"
      ],
      "execution_count": null,
      "outputs": [
        {
          "output_type": "stream",
          "text": [
            "Global a =  30\n",
            "Local a =  30\n",
            "Global a =  30\n"
          ],
          "name": "stdout"
        }
      ]
    },
    {
      "cell_type": "markdown",
      "metadata": {
        "id": "iGYnbu6iIBHT"
      },
      "source": [
        "### Функции взаимодействуют друг с другом"
      ]
    },
    {
      "cell_type": "markdown",
      "metadata": {
        "id": "leaRQ_L8IAvu"
      },
      "source": [
        "Давайте разберем, как функции взаимодействуют друг с другом и как функция может вернуть результат работы.\n",
        "\n",
        "У нас есть программа, которая запрашивает у пользователя числа через пробел. Затем она должна вернуть сумму всех этих чисел.\n",
        "\n",
        "Для этого в функции `main` мы запрашиваем ввод, затем разбиваем строку на элементы по пробелу с помощью метода `split`.\n",
        "\n",
        "В функцию `calc` мы передадим получившийся список. В самой функции `calc` мы переберем весь список, каждый элемент преобразуем число и прибавим к `i`, таким образом получив сумму всех элементов. Затем наша функция вернет результат с помощью ключевого слова `return`.\n",
        "\n",
        "После того как функция закончит свою работу, ее результат будет занесен в переменную `result`, которая находится в функции `main` — там, где мы и вызывали функцию `calc`.\n",
        "\n",
        "Посмотрим, как это работает, на http://pythontutor.com/."
      ]
    },
    {
      "cell_type": "code",
      "metadata": {
        "id": "n3LOzKKTICGX"
      },
      "source": [
        "def calc(numbers):\n",
        "    i = 0\n",
        "    for number in numbers:\n",
        "        i += int(number)\n",
        "    return i\n",
        "\n",
        "def main():\n",
        "    numbers = input('Введите числа через пробел ')\n",
        "    list_number = numbers.split(' ')\n",
        "    result = calc(list_number)\n",
        "    print(result)\n",
        "\n",
        "main()"
      ],
      "execution_count": null,
      "outputs": []
    },
    {
      "cell_type": "markdown",
      "metadata": {
        "id": "rgi3XMWDQWLM"
      },
      "source": [
        "## Хороший тон при написании функций"
      ]
    },
    {
      "cell_type": "markdown",
      "metadata": {
        "id": "athasLb_VImO"
      },
      "source": [
        "Функции называются маленькими буквами с подчеркиваниями, так называемый snake_case."
      ]
    },
    {
      "cell_type": "code",
      "metadata": {
        "id": "l9yJGDBkVwsN"
      },
      "source": [
        "def getInstallment():\n",
        "  # не очень хорошо\n",
        "  pass\n",
        "\n",
        "def getinstallment():\n",
        "  # не очень читаемо, но допустимо\n",
        "  pass\n",
        "\n",
        "def get_installment_by_monthly_payments_lite():\n",
        "  # корректно, но избыточно\n",
        "  pass\n",
        "\n",
        "def get_installment():\n",
        "  # отлично\n",
        "  pass"
      ],
      "execution_count": null,
      "outputs": []
    },
    {
      "cell_type": "markdown",
      "metadata": {
        "id": "oa7VWMZYUK5R"
      },
      "source": [
        "После декларации функций ставится два переноса строки."
      ]
    },
    {
      "cell_type": "code",
      "metadata": {
        "id": "0NKP_q4MUPYx"
      },
      "source": [
        "def new_sum(*nums):\n",
        "  sum = 0\n",
        "  for n in nums:\n",
        "    sum += n\n",
        "  return sum\n",
        "                        # раз пустая строка\n",
        "                        # два пустая строка\n",
        "new_sum(5, 7, 8, 11)    # а здесь вызов функций"
      ],
      "execution_count": null,
      "outputs": []
    },
    {
      "cell_type": "markdown",
      "metadata": {
        "id": "3kbSbC0GUo5V"
      },
      "source": [
        "Аргументы функции разделяются запятой с пробелом."
      ]
    },
    {
      "cell_type": "code",
      "metadata": {
        "id": "UhqzdJfKUuIv"
      },
      "source": [
        "def any_func(arg1,arg2,arg3):\n",
        "    # не очень читаемо\n",
        "    pass\n",
        "\n",
        "def any_func(arg1, arg2,arg3):\n",
        "    # не очень аккуратно\n",
        "    pass\n",
        "\n",
        "def any_func(arg1, arg2, arg3):\n",
        "    # отлично\n",
        "    pass"
      ],
      "execution_count": null,
      "outputs": []
    },
    {
      "cell_type": "markdown",
      "metadata": {
        "id": "sE5xYLIEcB2W"
      },
      "source": [
        "Если есть значения по умолчанию, равно НЕ окружается пробелами (в отличие от присваивания значения переменной)."
      ]
    },
    {
      "cell_type": "code",
      "metadata": {
        "id": "8Gi3mziBcBSZ"
      },
      "source": [
        "# Не надо так\n",
        "def precheck(prices, tip = 10):\n",
        "\n",
        "# Лучше так\n",
        "def precheck(prices, tip=10):"
      ],
      "execution_count": null,
      "outputs": []
    },
    {
      "cell_type": "markdown",
      "metadata": {
        "id": "smBEDobzYlSk"
      },
      "source": [
        "Если имя аргумента конфликтует с зарезервированным словом, ставим в конце нижнее подчеркивание.\n",
        "\n"
      ]
    },
    {
      "cell_type": "code",
      "metadata": {
        "id": "cZhJTZoUYssJ"
      },
      "source": [
        "# Нельзя никогда\n",
        "\n",
        "def any_func(class, try, finally):\n",
        "\n",
        "# Можно\n",
        "\n",
        "def any_func(my_class, try_number, finally_state):\n",
        "\n",
        "# Рекомендуется\n",
        "\n",
        "def any_func(class_, try_, finally_):"
      ],
      "execution_count": null,
      "outputs": []
    },
    {
      "cell_type": "markdown",
      "metadata": {
        "id": "IArHWKcxTvbK"
      },
      "source": [
        "Документировать функции полезно. Это можно сделать с помощью трех кавычек `\"\"\"`. Такие строки называются docstring (докстринг)."
      ]
    },
    {
      "cell_type": "code",
      "metadata": {
        "id": "HVOiEzDvQbqb",
        "colab": {
          "base_uri": "https://localhost:8080/"
        },
        "outputId": "07be38d9-b352-4256-838f-8bbbdaed4a26"
      },
      "source": [
        "# Одной строкой можно так\n",
        "def remove_from_string(string, *symbols_to_remove):\n",
        "  \"\"\"Удаляет символы, перечисленные после первого аргумента\"\"\"\n",
        "\n",
        "  for symbol in symbols_to_remove:\n",
        "    string = string.replace(symbol,\"\")\n",
        "\n",
        "  return string\n",
        "\n",
        "# В опенсурсе часто рекомендуется делать так, даже для одной строки\n",
        "def remove_from_string_two(string, *symbols_to_remove):\n",
        "  \"\"\"\n",
        "  Удаляет символы, перечисленные после первого аргумента\n",
        "  \"\"\"\n",
        "\n",
        "  for symbol in symbols_to_remove:\n",
        "    string = string.replace(symbol,\"\")\n",
        "\n",
        "  return string\n",
        "\n",
        "\n",
        "print(remove_from_string.__doc__)"
      ],
      "execution_count": null,
      "outputs": [
        {
          "output_type": "stream",
          "name": "stdout",
          "text": [
            "Удаляет символы, перечисленные после первого аргумента\n"
          ]
        }
      ]
    }
  ]
}