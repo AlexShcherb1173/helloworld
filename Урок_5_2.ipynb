{
  "nbformat": 4,
  "nbformat_minor": 0,
  "metadata": {
    "colab": {
      "provenance": [],
      "include_colab_link": true
    },
    "kernelspec": {
      "name": "python3",
      "display_name": "Python 3"
    },
    "language_info": {
      "name": "python"
    }
  },
  "cells": [
    {
      "cell_type": "markdown",
      "metadata": {
        "id": "view-in-github",
        "colab_type": "text"
      },
      "source": [
        "<a href=\"https://colab.research.google.com/github/AlexShcherb1173/helloworld/blob/master/%D0%A3%D1%80%D0%BE%D0%BA_5_2.ipynb\" target=\"_parent\"><img src=\"https://colab.research.google.com/assets/colab-badge.svg\" alt=\"Open In Colab\"/></a>"
      ]
    },
    {
      "cell_type": "markdown",
      "source": [
        "### Можно найти количество вхождений методом count\n",
        "\n"
      ],
      "metadata": {
        "id": "mTWzSdsPz8of"
      }
    },
    {
      "cell_type": "markdown",
      "source": [
        "Метод `count` находит в  строке (к которой применяется метод)  подстроку (которая передается в качестве параметра). Функция возвращает количество вхождений. Иначе возвращает ноль."
      ],
      "metadata": {
        "id": "JKAoJdj_0Aiq"
      }
    },
    {
      "cell_type": "code",
      "source": [
        "email = 'support@mail.ru'\n",
        "print(email.count('@'))"
      ],
      "metadata": {
        "colab": {
          "base_uri": "https://localhost:8080/"
        },
        "id": "rAzyGCVjz_fe",
        "outputId": "483762fb-d57e-4cdb-b792-935939150cc4"
      },
      "execution_count": null,
      "outputs": [
        {
          "output_type": "stream",
          "name": "stdout",
          "text": [
            "1\n"
          ]
        }
      ]
    },
    {
      "cell_type": "code",
      "source": [
        "email = 'support at skyend.ru'\n",
        "print(email.count('@'))"
      ],
      "metadata": {
        "colab": {
          "base_uri": "https://localhost:8080/"
        },
        "id": "bz3OT9Z-0ExO",
        "outputId": "216be91a-c4bf-4fad-d224-e9ff9972b15d"
      },
      "execution_count": null,
      "outputs": [
        {
          "output_type": "stream",
          "name": "stdout",
          "text": [
            "0\n"
          ]
        }
      ]
    },
    {
      "cell_type": "code",
      "source": [
        "email = 'Аааа, прекрати пожалуйста'\n",
        "print(email.count('прекрати'))"
      ],
      "metadata": {
        "colab": {
          "base_uri": "https://localhost:8080/"
        },
        "id": "Iq_yZoKG0HED",
        "outputId": "b6b06a2b-1c93-4a93-fd78-7ecf19b98627"
      },
      "execution_count": null,
      "outputs": [
        {
          "output_type": "stream",
          "name": "stdout",
          "text": [
            "1\n"
          ]
        }
      ]
    },
    {
      "cell_type": "code",
      "source": [
        "email = 'Слов примерно столько, сколько пробелов – но это не точно. Посчитайте – узнаете'\n",
        "print(email.count(' '))"
      ],
      "metadata": {
        "colab": {
          "base_uri": "https://localhost:8080/"
        },
        "id": "5uNefgpH0HtD",
        "outputId": "ff1c52a8-3035-4280-adbb-71772f234069"
      },
      "execution_count": null,
      "outputs": [
        {
          "output_type": "stream",
          "name": "stdout",
          "text": [
            "12\n"
          ]
        }
      ]
    },
    {
      "cell_type": "markdown",
      "source": [
        "### При поиске полезно менять регистр\n"
      ],
      "metadata": {
        "id": "UGPm_hM10GBA"
      }
    },
    {
      "cell_type": "markdown",
      "source": [
        "Регистр — это большие и маленькие буквы. Термин пришел из времен печатных машинок. Если «соня» и «Соня» — разные слова, поиск считается регистрозависимым. Иначе — регистронезависимым. По-английски — case-sensitive."
      ],
      "metadata": {
        "id": "MwCkf45X0MZQ"
      }
    },
    {
      "cell_type": "code",
      "source": [
        "print(\"У меня есть Большие Буквы\".lower())\n",
        "print(\"У меня есть Большие Буквы\".upper())\n",
        "\n",
        "\"У меня есть Большие Буквы\".lower().count(\"буквы\")"
      ],
      "metadata": {
        "colab": {
          "base_uri": "https://localhost:8080/"
        },
        "id": "GYEvkeeL0TKH",
        "outputId": "e8468c32-c532-40f2-ae86-03cb588f735c"
      },
      "execution_count": null,
      "outputs": [
        {
          "output_type": "stream",
          "name": "stdout",
          "text": [
            "у меня есть большие буквы\n",
            "У МЕНЯ ЕСТЬ БОЛЬШИЕ БУКВЫ\n"
          ]
        },
        {
          "output_type": "execute_result",
          "data": {
            "text/plain": [
              "1"
            ]
          },
          "metadata": {},
          "execution_count": 5
        }
      ]
    },
    {
      "cell_type": "markdown",
      "source": [
        "### Можно заменить кусочки строки с помощью метода replace"
      ],
      "metadata": {
        "id": "oeR4x1BR0Vlx"
      }
    },
    {
      "cell_type": "markdown",
      "source": [
        "Метод `replace` заменяет все вхождения одной строки на другую. Формат: `S.replace(old, new)` — заменить в строке `S` все вхождения подстроки `old` на подстроку `new`. Пример: заменить все пробелы в имени на нижнее подчеркивание или убрать пробелы в логине."
      ],
      "metadata": {
        "id": "cxtH7SM20XSy"
      }
    },
    {
      "cell_type": "code",
      "source": [
        "email = 'my new mail@gmail.com'\n",
        "new_email = email.replace(' ', '_')\n",
        "\n",
        "print(email, new_email)"
      ],
      "metadata": {
        "colab": {
          "base_uri": "https://localhost:8080/"
        },
        "id": "HJPP-X1v0aBo",
        "outputId": "60356c1b-7e89-419f-af13-17014c91a097"
      },
      "execution_count": null,
      "outputs": [
        {
          "output_type": "stream",
          "name": "stdout",
          "text": [
            "my new mail@gmail.com my_new_mail@gmail.com\n"
          ]
        }
      ]
    },
    {
      "cell_type": "code",
      "source": [
        "user_name = ' Super Star '\n",
        "new_user_name = user_name.replace(' ', '')\n",
        "\n",
        "print(new_user_name)"
      ],
      "metadata": {
        "colab": {
          "base_uri": "https://localhost:8080/"
        },
        "id": "eI7RunO40aY1",
        "outputId": "359cc825-e180-4591-d4f4-066b1d79313e"
      },
      "execution_count": null,
      "outputs": [
        {
          "output_type": "stream",
          "name": "stdout",
          "text": [
            "SuperStar\n"
          ]
        }
      ]
    },
    {
      "cell_type": "code",
      "source": [
        "my_str = \"Кукушка кукушонку купила джинсы. Надел кукушонок джинсы, Как в капюшоне он смешон!\"\n",
        "my_str = my_str.replace('джинсы', 'капюшон')\n",
        "\n",
        "print(my_str)"
      ],
      "metadata": {
        "colab": {
          "base_uri": "https://localhost:8080/"
        },
        "id": "ZHZYjo1_0ay3",
        "outputId": "f25a932b-aac2-491f-d964-62b319a7aced"
      },
      "execution_count": null,
      "outputs": [
        {
          "output_type": "stream",
          "name": "stdout",
          "text": [
            "Кукушка кукушонку купила капюшон. Надел кукушонок капюшон, Как в капюшоне он смешон!\n"
          ]
        }
      ]
    },
    {
      "cell_type": "markdown",
      "source": [
        "### Задачка"
      ],
      "metadata": {
        "id": "2ZEXb8vA0cXf"
      }
    },
    {
      "cell_type": "markdown",
      "source": [
        "Внутри Skyeng распространены сокращения, которые непонятны человеку cо стороны. Давайте напишем переводчик/расшифровщик с языка Skyeng на человеческий!"
      ],
      "metadata": {
        "id": "b5Snha9j0cD8"
      }
    },
    {
      "cell_type": "code",
      "source": [
        "original_text = \"\"\"\n",
        "Как все работает?\n",
        "У подает заявку на ВУ на сайте. С ним связывается менеджер и записывает на ВУ.\n",
        "ВУ проводит не П, а специальный человек – МВУ.\n",
        "В детских продуктах, когда проводится ВУ, на нем присутствует РУ\n",
        "Когда ВУ успешно состоялся, У оплачивает уроки.\n",
        "\"\"\"\n",
        "\n",
        "# ВУ - вводный урок\n",
        "# КЦ - колл-центр\n",
        "# ПМ - персональный менеджер\n",
        "# МВУ - методист вводного урока\n",
        "# У - ученик\n",
        "# РУ - родитель ученика\n",
        "# П - преподаватель\n",
        "\n",
        "edited_text = original_text.replace(\"МВУ\", \"методист вводного урока\")\n",
        "edited_text = edited_text.replace(\"ВУ\", \"вводный урок\")\n",
        "edited_text = edited_text.replace(\"КЦ\", \"кол-центр\")\n",
        "edited_text = edited_text.replace(\"ПМ\", \"персональный менеджер\")\n",
        "edited_text = edited_text.replace(\"РУ\", \"родитель ученика\")\n",
        "edited_text = edited_text.replace(\"У\", \"ученик\")\n",
        "edited_text = edited_text.replace(\"П\", \"преподаватель\")\n",
        "\n",
        "print(edited_text)\n"
      ],
      "metadata": {
        "colab": {
          "base_uri": "https://localhost:8080/"
        },
        "id": "SykevoAO0ptx",
        "outputId": "8da7604c-2050-42db-fe44-2b69f9239c45"
      },
      "execution_count": null,
      "outputs": [
        {
          "output_type": "stream",
          "name": "stdout",
          "text": [
            "\n",
            "Как все работает?\n",
            "ученик подает заявку на вводный урок на сайте. С ним связывается менеджер и записывает на вводный урок.\n",
            "вводный урок проводит не преподаватель, а специальный человек – методист вводного урока.\n",
            "В детских продуктах, когда проводится вводный урок, на нем присутствует родитель ученика\n",
            "Когда вводный урок успешно состоялся, ученик оплачивает уроки.\n",
            "\n"
          ]
        }
      ]
    },
    {
      "cell_type": "markdown",
      "source": [
        "### Строки можно разделить на кусочки — метод split"
      ],
      "metadata": {
        "id": "9E9CrhlJ0t_v"
      }
    },
    {
      "cell_type": "markdown",
      "source": [
        "Получить часть строки можно с помощью метода `split`. Например, мы можем разбить строку по собачке, запятой, точке или пробелу. Например, email или файл с расширением."
      ],
      "metadata": {
        "id": "aWAhTkPl0wR5"
      }
    },
    {
      "cell_type": "code",
      "source": [
        "s = \"Альфа, Браво, Чарли\"\n",
        "s = s.split(\", \")\n",
        "\n",
        "print(s)\n",
        "type(s)"
      ],
      "metadata": {
        "colab": {
          "base_uri": "https://localhost:8080/"
        },
        "id": "1SnWSvDj0yxB",
        "outputId": "a506cca3-e494-4ea6-cecb-bea70d849b81"
      },
      "execution_count": null,
      "outputs": [
        {
          "output_type": "stream",
          "name": "stdout",
          "text": [
            "['Альфа', 'Браво', 'Чарли']\n"
          ]
        },
        {
          "output_type": "execute_result",
          "data": {
            "text/plain": [
              "list"
            ]
          },
          "metadata": {},
          "execution_count": 11
        }
      ]
    },
    {
      "cell_type": "code",
      "source": [
        "s = \"john_man@gmail.com\"\n",
        "s = s.split(\"@\")\n",
        "\n",
        "print(s)\n",
        "print(s[1])"
      ],
      "metadata": {
        "colab": {
          "base_uri": "https://localhost:8080/"
        },
        "id": "XTdPW3Ul0zPJ",
        "outputId": "dd1c37ec-8292-40c7-f1a7-15782afe0e29"
      },
      "execution_count": null,
      "outputs": [
        {
          "output_type": "stream",
          "name": "stdout",
          "text": [
            "['john_man', 'gmail.com']\n",
            "gmail.com\n"
          ]
        }
      ]
    },
    {
      "cell_type": "code",
      "source": [
        "s = \"docs.google.com\"\n",
        "s = s.split(\".\")\n",
        "\n",
        "print(s)\n",
        "print(s[2])"
      ],
      "metadata": {
        "colab": {
          "base_uri": "https://localhost:8080/"
        },
        "id": "uX4srYiM0zCR",
        "outputId": "b39599cf-663e-48a6-a71a-deed3f1b67fe"
      },
      "execution_count": null,
      "outputs": [
        {
          "output_type": "stream",
          "name": "stdout",
          "text": [
            "['docs', 'google', 'com']\n",
            "com\n"
          ]
        }
      ]
    },
    {
      "cell_type": "markdown",
      "source": [
        "### Можно склеивать строки (обратно) — метод join"
      ],
      "metadata": {
        "id": "eclqWvbf05y4"
      }
    },
    {
      "cell_type": "markdown",
      "source": [
        "`join()` — очень удобный метод, позволяющий склеить определенное количество строк, причем с произвольным разделителем. Метод `join()`, принимающий в качестве аргумента список, возвращает новую строку."
      ],
      "metadata": {
        "id": "Z9W8u7oZ06fb"
      }
    },
    {
      "cell_type": "code",
      "source": [
        "color = ['red', 'green', 'blue']\n",
        "\n",
        "print(' '.join(color))\n",
        "print('/'.join(color))\n",
        "print('.'.join(color))\n",
        "print(' или '.join(color))"
      ],
      "metadata": {
        "colab": {
          "base_uri": "https://localhost:8080/"
        },
        "id": "MVPk5ubA09FW",
        "outputId": "1929fba9-68d3-4fd0-cc11-07a79ff7d48d"
      },
      "execution_count": null,
      "outputs": [
        {
          "output_type": "stream",
          "name": "stdout",
          "text": [
            "red green blue\n",
            "red/green/blue\n",
            "red.green.blue\n",
            "red или green или blue\n"
          ]
        }
      ]
    },
    {
      "cell_type": "code",
      "source": [
        "color = ['red', 'green', 'blue']\n",
        "\n",
        "print(', '.join(color))"
      ],
      "metadata": {
        "colab": {
          "base_uri": "https://localhost:8080/"
        },
        "id": "Bq0-JGwF0-2O",
        "outputId": "df187278-b4d9-4665-858d-8d28bdf0bd28"
      },
      "execution_count": null,
      "outputs": [
        {
          "output_type": "stream",
          "name": "stdout",
          "text": [
            "red, green, blue\n"
          ]
        }
      ]
    },
    {
      "cell_type": "code",
      "source": [
        "color = ['red', 'green', 'blue']\n",
        "\n",
        "print('***'.join(color))"
      ],
      "metadata": {
        "colab": {
          "base_uri": "https://localhost:8080/"
        },
        "id": "SjEyXHpP1Ae1",
        "outputId": "428547f6-bf88-40b1-c72c-b3ef82ab9ee3"
      },
      "execution_count": null,
      "outputs": [
        {
          "output_type": "stream",
          "name": "stdout",
          "text": [
            "red***green***blue\n"
          ]
        }
      ]
    },
    {
      "cell_type": "markdown",
      "source": [
        "### Задачка"
      ],
      "metadata": {
        "id": "Bq08rfyR1J_D"
      }
    },
    {
      "cell_type": "markdown",
      "source": [
        "На вход подается строка, которая может содержать меншены и хештеги.\n",
        "\n",
        "Если в строке встречается слово, которое начинается с @ или #, добавить в конце:\n",
        "\n",
        "Упомянуты люди:\n",
        "`@lord.destroyer`\n",
        "`@ase4ka`\n",
        "`@mifffutka`\n",
        "\n",
        "Упомянуты теги:\n",
        "`#питон` `#кодить`\n"
      ],
      "metadata": {
        "id": "EM51_-bO1KR1"
      }
    },
    {
      "cell_type": "code",
      "source": [
        "message = \"\"\"\n",
        "Всем привет, кто пришел изучать #питон, и добро пожаловать в чат!\n",
        "Будем тут общаться, учиться, делать приложения вместе с @happysnake, @angrycoder @mewton\n",
        "\"\"\"\n",
        "\n",
        "people_mentioned = []\n",
        "tags_mentioned = []\n",
        "\n",
        "text = message.replace(\",\", \"\")\n",
        "words = text.split(\" \")\n",
        "\n",
        "for word in words:\n",
        "  if word.startswith(\"@\"):\n",
        "    people_mentioned.append(word)\n",
        "  elif word.startswith(\"#\"):\n",
        "    tags_mentioned.append(word)\n",
        "\n",
        "people_mentioned_joined = \" \".join(people_mentioned)\n",
        "tags_mentioned_joined = \" \".join(tags_mentioned)\n",
        "\n",
        "print(f\"Упомянуты люди: {people_mentioned_joined}\")\n",
        "print(f\"Упомянуты теги: {tags_mentioned_joined}\")\n"
      ],
      "metadata": {
        "colab": {
          "base_uri": "https://localhost:8080/"
        },
        "id": "5tLZ87E21OxM",
        "outputId": "6b39d22b-ba94-41a8-ab04-7ea33e393beb"
      },
      "execution_count": null,
      "outputs": [
        {
          "output_type": "stream",
          "name": "stdout",
          "text": [
            "Упомянуты люди: @happysnake @angrycoder @mewton\n",
            "\n",
            "Упомянуты теги: #питон\n"
          ]
        }
      ]
    },
    {
      "cell_type": "code",
      "source": [],
      "metadata": {
        "id": "Mhh6_klKL_HB"
      },
      "execution_count": null,
      "outputs": []
    },
    {
      "cell_type": "markdown",
      "source": [
        "### Строки — неизменяемый тип данных, зато итерируемый"
      ],
      "metadata": {
        "id": "bHdyfA5U1SXF"
      }
    },
    {
      "cell_type": "markdown",
      "source": [
        "Первое, что будет круто усвоить: строки — это неизменяемые объекты. Каждый раз, когда мы говорим про изменение строки, технически мы создаем новый объект и записываем туда вычисленное значение. При работе над строкой всегда возвращается новая строка. Это совсем не похоже на другие типы данных."
      ],
      "metadata": {
        "id": "rc3uGOL41SnW"
      }
    },
    {
      "cell_type": "code",
      "source": [
        "example = \"Тестовая строка\"\n",
        "\n",
        "# example[0] = \"У\"\n",
        "\n",
        "# del example[0]\n",
        "\n",
        "# example.replace(\"е\",\"у\")\n",
        "\n",
        "text = example.replace(\"е\",\"у\")\n",
        "\n",
        "print(example)\n",
        "print(text)\n"
      ],
      "metadata": {
        "colab": {
          "base_uri": "https://localhost:8080/"
        },
        "id": "IEAW-C4o1W07",
        "outputId": "322eeec5-7806-4a89-c6a8-750f3a8f1b1f"
      },
      "execution_count": null,
      "outputs": [
        {
          "output_type": "stream",
          "name": "stdout",
          "text": [
            "Тестовая строка\n",
            "Тустовая строка\n"
          ]
        }
      ]
    },
    {
      "cell_type": "markdown",
      "source": [
        "## Селфчек"
      ],
      "metadata": {
        "id": "Dr4JyQS41Y9z"
      }
    },
    {
      "cell_type": "code",
      "source": [
        "# Как получить первую букву, как заменить букву?\n",
        "s = \"Алиса, вылезай из норы!\"\n",
        "\n",
        "s[0]"
      ],
      "metadata": {
        "id": "GE1BVmP71cBw"
      },
      "execution_count": null,
      "outputs": []
    },
    {
      "cell_type": "code",
      "source": [
        "# Как перебрать строку по одной букве?\n",
        "s = \"Алиса, вылезай из норы!\"\n",
        "\n",
        "for letter in s:\n",
        "  print(letter)"
      ],
      "metadata": {
        "id": "J1jV8Jnz1c10"
      },
      "execution_count": null,
      "outputs": []
    },
    {
      "cell_type": "code",
      "source": [
        "# Как проверить каждую букву, посчитать количество букв?\n",
        "s = \"Алиса, вылезай из норы!\"\n",
        "\n",
        "letter_count = 0\n",
        "\n",
        "for letter in s:\n",
        "  if letter not in [\" \",\",\",\"!\"]:\n",
        "    letter_count += 1\n",
        "\n",
        "print(letter_count)"
      ],
      "metadata": {
        "id": "uSdICkHj1cvo"
      },
      "execution_count": null,
      "outputs": []
    },
    {
      "cell_type": "code",
      "source": [
        "# Как проверить вхождение подстроки в строку?\n",
        "s = \"Алиса, вылезай из норы!\"\n",
        "\n",
        "if s.count(\"вылезай\") > 0:\n",
        "  print(\"Слово входит\")"
      ],
      "metadata": {
        "id": "mAaze6U-1cq8"
      },
      "execution_count": null,
      "outputs": []
    },
    {
      "cell_type": "code",
      "source": [
        "# Как заменить подстроку в строке?\n",
        "s = \"Алиса, вылезай из норы!\"\n",
        "\n",
        "s = s.replace(\"Алиса\",\"Дениса\")"
      ],
      "metadata": {
        "id": "Jir5lCaM1ckx"
      },
      "execution_count": null,
      "outputs": []
    },
    {
      "cell_type": "code",
      "source": [
        "# Как поделить строку\n",
        "s = \"Алиса, вылезай из норы!\"\n",
        "\n",
        "s.split(\",\")"
      ],
      "metadata": {
        "id": "Bt_1zDIt1cdy"
      },
      "execution_count": null,
      "outputs": []
    },
    {
      "cell_type": "code",
      "source": [
        "# Как соединить строку?\n",
        "persons = [\"Алиса\", \"Шляпник\", \"Мышь Соня\"]\n",
        "\n",
        "print(\", а еще \".join(persons))"
      ],
      "metadata": {
        "id": "TQQHiL-S1cRd"
      },
      "execution_count": null,
      "outputs": []
    }
  ]
}