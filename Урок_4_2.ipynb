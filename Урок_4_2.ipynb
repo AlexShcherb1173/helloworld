{
  "nbformat": 4,
  "nbformat_minor": 0,
  "metadata": {
    "colab": {
      "provenance": [],
      "include_colab_link": true
    },
    "kernelspec": {
      "name": "python3",
      "display_name": "Python 3"
    },
    "language_info": {
      "name": "python"
    }
  },
  "cells": [
    {
      "cell_type": "markdown",
      "metadata": {
        "id": "view-in-github",
        "colab_type": "text"
      },
      "source": [
        "<a href=\"https://colab.research.google.com/github/AlexShcherb1173/helloworld/blob/master/%D0%A3%D1%80%D0%BE%D0%BA_4_2.ipynb\" target=\"_parent\"><img src=\"https://colab.research.google.com/assets/colab-badge.svg\" alt=\"Open In Colab\"/></a>"
      ]
    },
    {
      "cell_type": "markdown",
      "source": [
        "# Цикл while\n",
        "\n"
      ],
      "metadata": {
        "id": "tn1GMiPplMY_"
      }
    },
    {
      "cell_type": "markdown",
      "source": [
        "### Цикл while — повторение блока кода с условием"
      ],
      "metadata": {
        "id": "Gy_jkwqxlaO-"
      }
    },
    {
      "cell_type": "markdown",
      "source": [
        "Хотя мы только добрались до них, циклы `while` — это самые классические циклы."
      ],
      "metadata": {
        "id": "vJNH9MKblfdB"
      }
    },
    {
      "cell_type": "code",
      "source": [
        "answer = None\n",
        "\n",
        "\n",
        "while answer != 'пошли':\n",
        "  answer = input(\"Пошли тусить? \")\n",
        "\n",
        "print(\"Я знал, что ты согласишься!\")\n"
      ],
      "metadata": {
        "colab": {
          "base_uri": "https://localhost:8080/"
        },
        "id": "EdLEmDGFlj3O",
        "outputId": "6af049b4-049f-4ba5-d53f-1f0f1a6f0635"
      },
      "execution_count": null,
      "outputs": [
        {
          "output_type": "stream",
          "name": "stdout",
          "text": [
            "Пошли тусить? нет\n",
            "Пошли тусить? я сказал нет\n",
            "Пошли тусить? пошли\n",
            "Я знал, что ты согласишься!\n"
          ]
        }
      ]
    },
    {
      "cell_type": "code",
      "source": [
        "# абсолютно честно\n",
        "# случайно выбранное число\n",
        "num = 4\n",
        "is_solved = False\n",
        "\n",
        "while not is_solved:\n",
        "  ans = input(\"Угадай число \")\n",
        "  if int(ans) == num:\n",
        "    print(\"Угадал!\")\n",
        "    is_solved = True\n",
        "  else:\n",
        "    print(\"Неа\")\n"
      ],
      "metadata": {
        "colab": {
          "base_uri": "https://localhost:8080/"
        },
        "id": "xGJ-2na4ltsk",
        "outputId": "6f7c1960-28bb-43df-9ddf-994404667123"
      },
      "execution_count": null,
      "outputs": [
        {
          "output_type": "stream",
          "name": "stdout",
          "text": [
            "Угадай число 10\n",
            "Неа\n",
            "Угадай число 6\n",
            "Неа\n",
            "Угадай число 12\n",
            "Неа\n",
            "Угадай число 4\n",
            "Угадал!\n"
          ]
        }
      ]
    },
    {
      "cell_type": "markdown",
      "source": [
        "Выход из цикла, не дожидаясь завершения, — `break`.\n"
      ],
      "metadata": {
        "id": "Mk9v12aTl0dk"
      }
    },
    {
      "cell_type": "code",
      "source": [
        "while True:\n",
        "  print(\"До брейка\")\n",
        "  break\n",
        "  print(\"После брейка\")\n",
        "\n",
        "print(\"После цикла\")"
      ],
      "metadata": {
        "colab": {
          "base_uri": "https://localhost:8080/"
        },
        "id": "wl9ppBmEl3HH",
        "outputId": "1dbbcd50-d573-41f4-aa81-6045ccbfec88"
      },
      "execution_count": null,
      "outputs": [
        {
          "output_type": "stream",
          "name": "stdout",
          "text": [
            "До брейка\n",
            "После цикла\n"
          ]
        }
      ]
    },
    {
      "cell_type": "markdown",
      "source": [
        "Можем переписать предыдущий пример:"
      ],
      "metadata": {
        "id": "NhOwzQRal567"
      }
    },
    {
      "cell_type": "code",
      "source": [
        "# абсолютно честно\n",
        "# случайно выбранное число\n",
        "num = 4\n",
        "\n",
        "while True:\n",
        "  ans = input(\"Угадай число \")\n",
        "  if int(ans) == num:\n",
        "    print(\"Угадал!\")\n",
        "    break\n",
        "  else:\n",
        "    print(\"Неа\")"
      ],
      "metadata": {
        "id": "USD3C5Qql8bN"
      },
      "execution_count": null,
      "outputs": []
    },
    {
      "cell_type": "code",
      "source": [
        "cities = ['Ривенделл', 'Минас-Тирит', 'Эребор', 'Шир']\n",
        "\n",
        "for city in cities:\n",
        "  if city == 'Эребор':\n",
        "    print('Ну это уже Эребор')\n",
        "    break\n",
        "  else:\n",
        "    print(city)"
      ],
      "metadata": {
        "id": "IT7lBBQol-CG"
      },
      "execution_count": null,
      "outputs": []
    },
    {
      "cell_type": "markdown",
      "source": [
        "### Задачка эпизода 2"
      ],
      "metadata": {
        "id": "G6meDcOfl-8F"
      }
    },
    {
      "cell_type": "markdown",
      "source": [
        "Мы должны некоторую сумму.\n",
        "\n",
        "Выводится месяц и остаток долга, предлагается ввести, сколько в этом месяце мы погасим.\n",
        "\n",
        "Продолжаем, пока долг не исчезнет.\n",
        "```\n",
        "Ваш долг — 10000\n",
        "\n",
        "Внесите сумму: 2000\n",
        "\n",
        "Ваш долг — 8000\n",
        "\n",
        "Внесите сумму: 5000\n",
        "\n",
        "Ваш долг — 3000\n",
        "\n",
        "Внесите сумму: 3000\n",
        "\n",
        "Ваши долги выплачены\n",
        "\n",
        "\n",
        "```\n",
        "\n"
      ],
      "metadata": {
        "id": "pcIuVWJ9mCwy"
      }
    },
    {
      "cell_type": "code",
      "source": [
        "debt = 10000\n",
        "\n",
        "while debt > 0:\n",
        "  print(f\"Ваш долг – {debt}\")\n",
        "  payment = int(input(\"Введите сумму для погашения: \"))\n",
        "  debt -= payment\n",
        "\n",
        "print(\"Ваши долги выплачены\")"
      ],
      "metadata": {
        "colab": {
          "base_uri": "https://localhost:8080/"
        },
        "id": "jII-gz3fmFPH",
        "outputId": "bb19f667-e060-4128-95ff-7860f671d7eb"
      },
      "execution_count": null,
      "outputs": [
        {
          "output_type": "stream",
          "name": "stdout",
          "text": [
            "Ваш долг – 10000\n",
            "Введите сумму для погашения: 5000\n",
            "Ваш долг – 5000\n",
            "Введите сумму для погашения: 2500\n",
            "Ваш долг – 2500\n",
            "Введите сумму для погашения: 500\n",
            "Ваш долг – 2000\n",
            "Введите сумму для погашения: 100\n",
            "Ваш долг – 1900\n",
            "Введите сумму для погашения: 1900\n",
            "Ваши долги выплачены\n"
          ]
        }
      ]
    },
    {
      "cell_type": "markdown",
      "source": [
        "# Селфчек"
      ],
      "metadata": {
        "id": "GdD7V5xomKve"
      }
    },
    {
      "cell_type": "code",
      "source": [
        "#Как создать бесконечный цикл?\n",
        "\n",
        "while True:\n",
        "  print(\"Привет, повисим немножко?\")"
      ],
      "metadata": {
        "id": "j2NZYWlrmND4"
      },
      "execution_count": null,
      "outputs": []
    },
    {
      "cell_type": "code",
      "source": [
        "#Как завершить цикл досрочно?\n",
        "\n",
        "c = 100\n",
        "\n",
        "while True:\n",
        "  print(\"Привет, повисим немножко?\")\n",
        "  if c==0:\n",
        "    break;\n",
        "  c-=1"
      ],
      "metadata": {
        "id": "BCk-Sm4GmRpo"
      },
      "execution_count": null,
      "outputs": []
    }
  ]
}