{
  "nbformat": 4,
  "nbformat_minor": 0,
  "metadata": {
    "colab": {
      "provenance": [],
      "include_colab_link": true
    },
    "kernelspec": {
      "name": "python3",
      "display_name": "Python 3"
    },
    "language_info": {
      "name": "python"
    }
  },
  "cells": [
    {
      "cell_type": "markdown",
      "metadata": {
        "id": "view-in-github",
        "colab_type": "text"
      },
      "source": [
        "<a href=\"https://colab.research.google.com/github/AlexShcherb1173/helloworld/blob/master/%D0%A3%D1%80%D0%BE%D0%BA_4_1.ipynb\" target=\"_parent\"><img src=\"https://colab.research.google.com/assets/colab-badge.svg\" alt=\"Open In Colab\"/></a>"
      ]
    },
    {
      "cell_type": "markdown",
      "source": [
        "# Конструкция for in"
      ],
      "metadata": {
        "id": "qtbJB5ctCaYg"
      }
    },
    {
      "cell_type": "markdown",
      "source": [
        "### Цикл for — перебор списков"
      ],
      "metadata": {
        "id": "zKKtltYmC5LO"
      }
    },
    {
      "cell_type": "code",
      "source": [
        "items_list = [\"f\",\"f\",\"g\",\"h\",\"j\"]\n",
        "\n",
        "for item in items_list:\n",
        "  print(item)"
      ],
      "metadata": {
        "colab": {
          "base_uri": "https://localhost:8080/"
        },
        "id": "InRBxtpMDHKV",
        "outputId": "56f703ff-ccad-4e75-af1b-52b38503478d"
      },
      "execution_count": null,
      "outputs": [
        {
          "output_type": "stream",
          "name": "stdout",
          "text": [
            "f\n",
            "f\n",
            "g\n",
            "h\n",
            "j\n"
          ]
        }
      ]
    },
    {
      "cell_type": "markdown",
      "source": [
        "Посмотрим визуализацию в http://pythontutor.com/."
      ],
      "metadata": {
        "id": "T6HUO1tIXzel"
      }
    },
    {
      "cell_type": "code",
      "source": [
        "ex_gfs = [\"Иветта\", \"Лизетта\", \"Мюзетта\", \"Жанетта\", \"Жоржетта\"]\n",
        "\n",
        "\n",
        "for ex in ex_gfs:\n",
        "    print(ex)\n",
        "\n",
        "\n",
        "print(\"Покуда я с вами - клянусь, моя песня не спета\")"
      ],
      "metadata": {
        "colab": {
          "base_uri": "https://localhost:8080/"
        },
        "id": "aKeO_TQrC_PZ",
        "outputId": "1cf8b343-d945-4d60-9078-728e95ff85db"
      },
      "execution_count": null,
      "outputs": [
        {
          "output_type": "stream",
          "name": "stdout",
          "text": [
            "Иветта\n",
            "Лизетта\n",
            "Мюзетта\n",
            "Жанетта\n",
            "Жоржетта\n",
            "Покуда я с вами - клянусь, моя песня не спета\n"
          ]
        }
      ]
    },
    {
      "cell_type": "code",
      "source": [
        "reasons = [\"ты\", \"все твои мечты\", \"боль\"]\n",
        "num = 1\n",
        "\n",
        "\n",
        "for reason in reasons:\n",
        "  print(f\"{num} причина - это {reason}\")\n",
        "  num += 1"
      ],
      "metadata": {
        "colab": {
          "base_uri": "https://localhost:8080/"
        },
        "id": "Q8ebE383X0U2",
        "outputId": "f3f26f2d-ece7-4b0d-a3d8-4ae480820765"
      },
      "execution_count": null,
      "outputs": [
        {
          "output_type": "stream",
          "name": "stdout",
          "text": [
            "1 причина - это ты\n",
            "2 причина - это все твои мечты\n",
            "3 причина - это боль\n"
          ]
        }
      ]
    },
    {
      "cell_type": "markdown",
      "source": [
        "### Цикл и условие можно совмещать"
      ],
      "metadata": {
        "id": "fvjXExAQY0xa"
      }
    },
    {
      "cell_type": "code",
      "source": [
        "words = [\"воронка\", \"лавировали\", \"тележка\", \"маленький\"]\n",
        "\n",
        "\n",
        "for word in words:\n",
        "  if \"р\" in word:\n",
        "    print(f\"{word} – картавое слово\")"
      ],
      "metadata": {
        "colab": {
          "base_uri": "https://localhost:8080/"
        },
        "id": "zHQ-WEHQY85U",
        "outputId": "e708f14a-858b-43e8-d0cc-85d0e4c028bb"
      },
      "execution_count": null,
      "outputs": [
        {
          "metadata": {
            "tags": null
          },
          "name": "stdout",
          "output_type": "stream",
          "text": [
            "воронка – картавое слово\n",
            "лавировали – картавое слово\n"
          ]
        }
      ]
    },
    {
      "cell_type": "markdown",
      "source": [
        "Посмотрим визуализацию в http://pythontutor.com/."
      ],
      "metadata": {
        "id": "3UgRG8xxZB3m"
      }
    },
    {
      "cell_type": "markdown",
      "source": [
        "### Задачка к эпизоду 1"
      ],
      "metadata": {
        "id": "nCkw8LTTZDoe"
      }
    },
    {
      "cell_type": "markdown",
      "source": [
        "Дан список трат, нужно просуммировать их и вывести общие расходы.\n",
        "\n",
        "Вывод: `Всего потрачено: 4280`"
      ],
      "metadata": {
        "id": "Gt7__iDnZJTw"
      }
    },
    {
      "cell_type": "code",
      "source": [
        "expenses = [200,  450,  320, 1100, 650, 280, 325, 490, 830, 420]\n",
        "total = 0\n",
        "\n",
        "for payment in expenses:\n",
        "  total += payment\n",
        "\n",
        "print(f\"Всего потрачено: {total}\")"
      ],
      "metadata": {
        "colab": {
          "base_uri": "https://localhost:8080/"
        },
        "id": "i1mdBVLvZI0r",
        "outputId": "ffa5950f-94fa-4b2e-a18c-22e74c32b9e8"
      },
      "execution_count": null,
      "outputs": [
        {
          "output_type": "stream",
          "name": "stdout",
          "text": [
            "Всего потрачено: 5065\n"
          ]
        }
      ]
    },
    {
      "cell_type": "markdown",
      "source": [
        "Теперь посмотрим задачку в http://pythontutor.com/."
      ],
      "metadata": {
        "id": "k0E0WlGIZT0i"
      }
    },
    {
      "cell_type": "markdown",
      "source": [
        "### И еще одна задачка"
      ],
      "metadata": {
        "id": "DNjcBpaRZWhW"
      }
    },
    {
      "cell_type": "markdown",
      "source": [
        "Дан список медалек. Нужно посчитать, сколько золотых, серебряных и бронзовых. Ответ должен выводиться в формате:\n",
        "```\n",
        "Золотых: 5\n",
        "Серебряных: 3\n",
        "Бронзовых: 1\n",
        "Шоколадных: 1\n",
        "\n",
        "```\n",
        "\n",
        "\n",
        "\n",
        "\n",
        "\n"
      ],
      "metadata": {
        "id": "ZGKiZu5hZai_"
      }
    },
    {
      "cell_type": "code",
      "source": [
        "medals = [\"gold\", \"gold\", \"silver\", \"gold\", \"bronze\", \"silver\", \"gold\", \"gold\", \"silver\", \"chocolate\"]\n",
        "\n",
        "gold_count = 0\n",
        "silver_count = 0\n",
        "bronze_count = 0\n",
        "chocolate_count = 0\n",
        "\n",
        "for medal in medals:\n",
        "  if medal == \"gold\":\n",
        "    gold_count += 1\n",
        "  elif medal == \"silver\":\n",
        "    silver_count += 1\n",
        "  elif medal == \"bronze\":\n",
        "    bronze_count += 1\n",
        "  elif medal == \"chocolate\":\n",
        "    chocolate_count += 1\n",
        "\n",
        "print(f\"Золотых: {gold_count}\")\n",
        "print(f\"Серебряных: {silver_count}\")\n",
        "print(f\"Бронзовых: {bronze_count}\")\n",
        "print(f\"Шоколадных: {chocolate_count}\")"
      ],
      "metadata": {
        "colab": {
          "base_uri": "https://localhost:8080/"
        },
        "id": "Pw7MT3n6ZBk3",
        "outputId": "0b0eebc9-e0aa-429a-a212-ccf2f2300397"
      },
      "execution_count": null,
      "outputs": [
        {
          "output_type": "stream",
          "name": "stdout",
          "text": [
            "Золотых: 5\n",
            "Серебряных: 3\n",
            "Бронзовых: 1\n",
            "Шоколадных: 1\n"
          ]
        }
      ]
    },
    {
      "cell_type": "markdown",
      "source": [
        "# Range"
      ],
      "metadata": {
        "id": "Rh52KkvCZukg"
      }
    },
    {
      "cell_type": "markdown",
      "source": [
        "### Перебирать в цикле можно не только списки"
      ],
      "metadata": {
        "id": "r9E79quBZvYB"
      }
    },
    {
      "cell_type": "code",
      "source": [
        "# как и в срезах, верхняя граница не включается\n",
        "\n",
        "for num in range(1, 6):\n",
        "  print(\"смеяться 1 минуту\")"
      ],
      "metadata": {
        "colab": {
          "base_uri": "https://localhost:8080/"
        },
        "id": "EjxbYJk0ZXqW",
        "outputId": "3fec91a5-6416-41c2-ad02-33a8a3ed7549"
      },
      "execution_count": null,
      "outputs": [
        {
          "output_type": "stream",
          "name": "stdout",
          "text": [
            "смеяться 1 минуту\n",
            "смеяться 1 минуту\n",
            "смеяться 1 минуту\n",
            "смеяться 1 минуту\n",
            "смеяться 1 минуту\n"
          ]
        }
      ]
    },
    {
      "cell_type": "code",
      "source": [
        "# по умолчанию начинаем от нуля\n",
        "\n",
        "for num in range(10):\n",
        "  print(f\"{num} * 9 = {num * 9}\")"
      ],
      "metadata": {
        "colab": {
          "base_uri": "https://localhost:8080/"
        },
        "id": "ZKKNPLGYZ8_m",
        "outputId": "4d16e5e5-b35d-41db-d319-ac17b3ec5b83"
      },
      "execution_count": null,
      "outputs": [
        {
          "output_type": "stream",
          "name": "stdout",
          "text": [
            "0 * 9 = 0\n",
            "1 * 9 = 9\n",
            "2 * 9 = 18\n",
            "3 * 9 = 27\n",
            "4 * 9 = 36\n",
            "5 * 9 = 45\n",
            "6 * 9 = 54\n",
            "7 * 9 = 63\n",
            "8 * 9 = 72\n",
            "9 * 9 = 81\n"
          ]
        }
      ]
    },
    {
      "cell_type": "markdown",
      "source": [
        "### Можно перебирать индексы"
      ],
      "metadata": {
        "id": "i9hdpeRAZ_6g"
      }
    },
    {
      "cell_type": "code",
      "source": [
        "actions = ['buy it', 'use it', 'break it', 'fix it']\n",
        "\n",
        "# action_indexes = range(4)\n",
        "action_indexes = range(len(actions)) # [0, 1, 2, 3]\n",
        "\n",
        "for act_idx in action_indexes:\n",
        "   print(act_idx + 1, actions[act_idx])"
      ],
      "metadata": {
        "colab": {
          "base_uri": "https://localhost:8080/"
        },
        "id": "PSFWHDnMaBjV",
        "outputId": "b07780db-3f66-473f-99e3-c3738e0af910"
      },
      "execution_count": null,
      "outputs": [
        {
          "output_type": "stream",
          "name": "stdout",
          "text": [
            "1 buy it\n",
            "2 use it\n",
            "3 break it\n",
            "4 fix it\n"
          ]
        }
      ]
    },
    {
      "cell_type": "markdown",
      "source": [
        "### Задачка"
      ],
      "metadata": {
        "id": "SXkOQZsmaGu0"
      }
    },
    {
      "cell_type": "markdown",
      "source": [
        "Стоимость нового ноутбука выводится со стандартного ввода, например 100 000. Нужно вывести по ней рассрочку на несколько месяцев.\n",
        "```\n",
        "1 платеж -- 100 000 / мес\n",
        "2 платеж -- 50 000 / мес\n",
        "3 платеж -- 33 000 / мес\n",
        "4 платеж -- 25 000 / мес\n",
        "5 платеж -- 20 000 / мес\n",
        "6 платеж - 16 500 / мес\n",
        "100 000 платежей - 1 / мес\n",
        "\n",
        "```\n",
        "\n"
      ],
      "metadata": {
        "id": "6M4BHCIoaK0j"
      }
    },
    {
      "cell_type": "code",
      "source": [
        "price = int(input(\"Введите полную сумму покупки \"))\n",
        "\n",
        "for month in range(1, 13):\n",
        "  monthly_payment = int(price / month)\n",
        "  print(f\"{month} месяцев - {monthly_payment} руб\")"
      ],
      "metadata": {
        "colab": {
          "base_uri": "https://localhost:8080/"
        },
        "id": "Y7D7nCpzaQcY",
        "outputId": "60a4f8a8-dcb6-4848-c0e6-3414880c78a0"
      },
      "execution_count": null,
      "outputs": [
        {
          "output_type": "stream",
          "name": "stdout",
          "text": [
            "Введите полную сумму покупки 100000\n",
            "1 месяцев - 100000 руб\n",
            "2 месяцев - 50000 руб\n",
            "3 месяцев - 33333 руб\n",
            "4 месяцев - 25000 руб\n",
            "5 месяцев - 20000 руб\n",
            "6 месяцев - 16666 руб\n",
            "7 месяцев - 14285 руб\n",
            "8 месяцев - 12500 руб\n",
            "9 месяцев - 11111 руб\n",
            "10 месяцев - 10000 руб\n",
            "11 месяцев - 9090 руб\n",
            "12 месяцев - 8333 руб\n"
          ]
        }
      ]
    },
    {
      "cell_type": "markdown",
      "source": [
        "# Селфчек"
      ],
      "metadata": {
        "id": "VGSg_zImrq8H"
      }
    },
    {
      "cell_type": "code",
      "source": [
        "# Как перебрать список через for in?\n",
        "\n",
        "girls = [\"Иветта\", \"Лизетта\", \"Мюзетта\", \"Жанетта\", \"Жоржетта\"]\n",
        "\n",
        "for girl in girls:\n",
        "  print(girl)"
      ],
      "metadata": {
        "colab": {
          "base_uri": "https://localhost:8080/"
        },
        "id": "er4QpR_vr1a8",
        "outputId": "5faf2fac-6e8d-4e5e-f553-49bab786b9b0"
      },
      "execution_count": null,
      "outputs": [
        {
          "output_type": "stream",
          "name": "stdout",
          "text": [
            "Иветта\n",
            "Лизетта\n",
            "Мюзетта\n",
            "Жанетта\n",
            "Жоржетта\n"
          ]
        }
      ]
    },
    {
      "cell_type": "code",
      "source": [
        "# Как перебрать список через for in range?\n",
        "\n",
        "girls = [\"Иветта\", \"Лизетта\", \"Мюзетта\", \"Жанетта\", \"Жоржетта\"]\n",
        "\n",
        "for i in range(len(girls)):\n",
        "  print(girls[i])"
      ],
      "metadata": {
        "colab": {
          "base_uri": "https://localhost:8080/"
        },
        "id": "fC1AI4Lgr3s6",
        "outputId": "62da5cd7-0b2d-4bf3-868d-2511527c8d60"
      },
      "execution_count": null,
      "outputs": [
        {
          "output_type": "stream",
          "name": "stdout",
          "text": [
            "Иветта\n",
            "Лизетта\n",
            "Мюзетта\n",
            "Жанетта\n",
            "Жоржетта\n"
          ]
        }
      ]
    },
    {
      "cell_type": "code",
      "source": [
        "# Как пронумеровать элементы списка с единицы?\n",
        "\n",
        "girls = [\"Иветта\", \"Лизетта\", \"Мюзетта\", \"Жанетта\", \"Жоржетта\"]\n",
        "\n",
        "for i in range(len(girls)):\n",
        "  print(i+1,girls[i])"
      ],
      "metadata": {
        "colab": {
          "base_uri": "https://localhost:8080/"
        },
        "id": "sA1B5JMqr4l1",
        "outputId": "013ac037-f91b-4c58-a307-836acef608be"
      },
      "execution_count": null,
      "outputs": [
        {
          "output_type": "stream",
          "name": "stdout",
          "text": [
            "1 Иветта\n",
            "2 Лизетта\n",
            "3 Мюзетта\n",
            "4 Жанетта\n",
            "5 Жоржетта\n"
          ]
        }
      ]
    }
  ]
}