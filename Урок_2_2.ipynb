{
  "nbformat": 4,
  "nbformat_minor": 0,
  "metadata": {
    "colab": {
      "provenance": [],
      "collapsed_sections": [
        "PuHVIjXn7fNr",
        "9jT8SKAr_fCS",
        "fRuofVLpONmO",
        "vk72mlMI3W2W",
        "kfJxV2GB3z8x",
        "JVEr802BVwdM",
        "K9u0MF-bfjtu",
        "g6bicIvkWO2I"
      ],
      "include_colab_link": true
    },
    "kernelspec": {
      "name": "python3",
      "display_name": "Python 3"
    },
    "language_info": {
      "name": "python"
    }
  },
  "cells": [
    {
      "cell_type": "markdown",
      "metadata": {
        "id": "view-in-github",
        "colab_type": "text"
      },
      "source": [
        "<a href=\"https://colab.research.google.com/github/AlexShcherb1173/helloworld/blob/master/%D0%A3%D1%80%D0%BE%D0%BA_2_2.ipynb\" target=\"_parent\"><img src=\"https://colab.research.google.com/assets/colab-badge.svg\" alt=\"Open In Colab\"/></a>"
      ]
    },
    {
      "cell_type": "markdown",
      "metadata": {
        "id": "k0dg9CU-BMIi"
      },
      "source": [
        "## Часть 2. Эпизод 1"
      ]
    },
    {
      "cell_type": "markdown",
      "metadata": {
        "id": "J7J7RVMJBQYD"
      },
      "source": [
        "Переменные типа bool (от boolean) — это самый классный тип переменных, те самые единички и нолики.\n",
        "Значение такой переменной — или «Да», или «Нет»; или «Истина» или «Ложь», или True, или False. Никаких полутонов. Например:"
      ]
    },
    {
      "cell_type": "code",
      "metadata": {
        "id": "kY5EMe5OEbyL"
      },
      "source": [
        "is_server_on = True        # сервер либо включен либо выключен\n",
        "is_user_online = False     # пользователь либо онлайн, либо нет\n",
        "is_denis_pregnant = False  # Денис либо беременный, либо нет\n",
        "is_alice_fired = False      # Алису либо уволили, либо нет\n",
        "\n",
        "type(is_alice_fired)\n",
        "\n",
        "# Вернет bool"
      ],
      "execution_count": null,
      "outputs": []
    },
    {
      "cell_type": "markdown",
      "metadata": {
        "id": "9elsG72REnwu"
      },
      "source": [
        "Значение можно переключить (говорят «инвертировать») с помощью `not`."
      ]
    },
    {
      "cell_type": "code",
      "metadata": {
        "id": "82iEuvqDEqmP"
      },
      "source": [
        "is_alice_fired = not True\n",
        "print(is_alice_fired)\n",
        "# >>> False\n",
        "\n",
        "is_she_drunk = not False\n",
        "print(is_she_drunk)\n",
        "# >>> True"
      ],
      "execution_count": null,
      "outputs": []
    },
    {
      "cell_type": "markdown",
      "metadata": {
        "id": "2Epm9-IlFoD-"
      },
      "source": [
        "### Условный оператор if"
      ]
    },
    {
      "cell_type": "markdown",
      "metadata": {
        "id": "O9KcX42bEr1-"
      },
      "source": [
        "Оператор `if` (его иногда называют оператором ветвления) — основной инструмент выбора в Python. Проще говоря, он выбирает, какое действие следует выполнить, в зависимости от булева значения.  \n",
        "\n",
        "Если да, он выполнится. Если нет — нет.\n",
        "\n"
      ]
    },
    {
      "cell_type": "code",
      "metadata": {
        "id": "Jh6nkQokFE2U",
        "colab": {
          "base_uri": "https://localhost:8080/"
        },
        "outputId": "f726c5c3-38aa-4302-bd4a-2826ffa1c287"
      },
      "source": [
        "is_fired = True\n",
        "\n",
        "if is_fired:\n",
        "    print(\"Алису уволили\")\n",
        "\n",
        "if not is_fired:\n",
        "    print(\"Алису скоро уволят\")"
      ],
      "execution_count": null,
      "outputs": [
        {
          "output_type": "stream",
          "text": [
            "Алису уволили\n"
          ],
          "name": "stdout"
        }
      ]
    },
    {
      "cell_type": "markdown",
      "metadata": {
        "id": "7V2MuDQJFETC"
      },
      "source": [
        "У каждой инструкции в блоке `if` одинаковый отступ от слова if. Каждая инструкция должна содержать одинаковое количество пробелов. В противном случае программа вернет синтаксическую ошибку. В Python рекомендуется делать отступ на 4 пробела."
      ]
    },
    {
      "cell_type": "markdown",
      "metadata": {
        "id": "NRGHtiRiFJyw"
      },
      "source": [
        "### Операторы сравнения"
      ]
    },
    {
      "cell_type": "markdown",
      "metadata": {
        "id": "lkz9YXV2FMwy"
      },
      "source": [
        "Вместо булевых переменных в условных операторах можно использовать операторы сравнения. Операторы сравнения возвращают такие же булевы переменные, которые мы только что создавали."
      ]
    },
    {
      "cell_type": "code",
      "metadata": {
        "id": "md3pZOx6FQ6E"
      },
      "source": [
        "a == b # равно\n",
        "\n",
        "a != b # не равно\n",
        "\n",
        "a > b # больше\n",
        "\n",
        "a < b # меньше\n",
        "\n",
        "a >= b # больше или равно\n",
        "\n",
        "a <= b # меньше или равно\n",
        "\n",
        "a in b # а есть в b (для строк)"
      ],
      "execution_count": null,
      "outputs": []
    },
    {
      "cell_type": "code",
      "metadata": {
        "id": "rYbv5q67FRq5",
        "colab": {
          "base_uri": "https://localhost:8080/"
        },
        "outputId": "01785a31-2d8a-472e-fa6f-a4d076691e48"
      },
      "source": [
        "print(\"кошки\" == \"мошки\")"
      ],
      "execution_count": null,
      "outputs": [
        {
          "output_type": "stream",
          "text": [
            "False\n"
          ],
          "name": "stdout"
        }
      ]
    },
    {
      "cell_type": "code",
      "metadata": {
        "id": "dySiPXkFFWFz",
        "colab": {
          "base_uri": "https://localhost:8080/"
        },
        "outputId": "6d866ce3-1e1d-48dd-850d-791484acc63f"
      },
      "source": [
        "print(\"кошки\" != \"мошки\")"
      ],
      "execution_count": null,
      "outputs": [
        {
          "output_type": "stream",
          "text": [
            "True\n"
          ],
          "name": "stdout"
        }
      ]
    },
    {
      "cell_type": "code",
      "metadata": {
        "id": "uw-NB3KgFZFQ",
        "colab": {
          "base_uri": "https://localhost:8080/"
        },
        "outputId": "a46978fa-055d-4485-817d-263b64f991ae"
      },
      "source": [
        "print(1000 == 100*10)"
      ],
      "execution_count": null,
      "outputs": [
        {
          "output_type": "stream",
          "text": [
            "True\n"
          ],
          "name": "stdout"
        }
      ]
    },
    {
      "cell_type": "code",
      "metadata": {
        "id": "hZzrDIPkFc0Y",
        "colab": {
          "base_uri": "https://localhost:8080/"
        },
        "outputId": "3a61661c-bea3-45f3-b5d1-355047d3ceaa"
      },
      "source": [
        "print(1>10000)"
      ],
      "execution_count": null,
      "outputs": [
        {
          "output_type": "stream",
          "text": [
            "False\n"
          ],
          "name": "stdout"
        }
      ]
    },
    {
      "cell_type": "code",
      "metadata": {
        "id": "rhfLqud1FfoE",
        "colab": {
          "base_uri": "https://localhost:8080/"
        },
        "outputId": "dc8d2e31-1246-41be-b1e0-bc9d4bae8d9b"
      },
      "source": [
        "print(\"ошки\" in \"мошки\")"
      ],
      "execution_count": null,
      "outputs": [
        {
          "output_type": "stream",
          "text": [
            "True\n"
          ],
          "name": "stdout"
        }
      ]
    },
    {
      "cell_type": "markdown",
      "metadata": {
        "id": "3PkuOemgBQf9"
      },
      "source": [
        "### Задача эпизода 1"
      ]
    },
    {
      "cell_type": "markdown",
      "metadata": {
        "id": "qMcuq0ZsBUI9"
      },
      "source": [
        "\n",
        "Написать программу, которая выводит, является ли продукт новинкой, популярным, скидкой. Например:\n",
        "\n",
        "`Книга С. И. Змеев – “Как стать змеей”`\n",
        "`[Cкидка!] [Популярно!][Акция!]`\n",
        "\n",
        "Продукт считается популярным, если у него больше 150 продаж.\n",
        "\n",
        "Продукт считается cо скидкой, если она ненулевая.\n",
        "\n",
        "Продукт считается акцией, если скидка 10% и выше.\n"
      ]
    },
    {
      "cell_type": "code",
      "metadata": {
        "id": "y9UkqAAxBUWQ",
        "colab": {
          "base_uri": "https://localhost:8080/"
        },
        "outputId": "84c99894-d75b-4eaf-d3cc-ead238d183bc"
      },
      "source": [
        "title = \"Книга С. И. Змеев – Как стать змеей \"\n",
        "price = 1200\n",
        "discount = 11\n",
        "sales = 241\n",
        "\n",
        "if sales > 150:\n",
        "  title += \"[Популярно!]\"\n",
        "\n",
        "if discount > 0:\n",
        "  title += \"[Cкидка!]\"\n",
        "\n",
        "if discount >= 10:\n",
        "  title += \"[Акция!]\"\n",
        "\n",
        "print(title)"
      ],
      "execution_count": null,
      "outputs": [
        {
          "output_type": "stream",
          "text": [
            "Книга С. И. Змеев – Как стать змеей [Популярно!][Cкидка!][Акция!]\n"
          ],
          "name": "stdout"
        }
      ]
    },
    {
      "cell_type": "markdown",
      "metadata": {
        "id": "JVEr802BVwdM"
      },
      "source": [
        "## Часть 2. Эпизод 2"
      ]
    },
    {
      "cell_type": "markdown",
      "metadata": {
        "id": "Z_MALsOvV0B5"
      },
      "source": [
        "Теперь мы изучаем настоящие  условия на оба варианта."
      ]
    },
    {
      "cell_type": "code",
      "metadata": {
        "id": "bt13-WN_V_Ot"
      },
      "source": [
        "# Результат прохождения теста\n",
        "\n",
        "point = 50\n",
        "\n",
        "if point > 50:\n",
        "  print(\"Вы сдали экзамен\")\n",
        "else:\n",
        "  print(\"Вы не сдали экзамен\")"
      ],
      "execution_count": null,
      "outputs": []
    },
    {
      "cell_type": "markdown",
      "metadata": {
        "id": "jCqGrxUYWE-D"
      },
      "source": [
        "Но не всегда хватает двух вариантов.\n",
        "\n",
        "Подключаем `elif` (от else if, кстати, в некоторых языках программирования такая конструкция называется elseif)."
      ]
    },
    {
      "cell_type": "code",
      "metadata": {
        "id": "VbdeUGLRWFjD"
      },
      "source": [
        "# Примерный перевод баллов ЕГЭ.\n",
        "\n",
        "points = int(input(\"Сколько там у вас баллов? \"))\n",
        "\n",
        "if points >= 72:\n",
        "  print(\"Это пять\")\n",
        "elif 57 <= points <= 71:\n",
        "  print(\"Это четыре\")\n",
        "elif 36 <= points <= 56:\n",
        "  print(\"Это три\")\n",
        "elif 0 <= points <= 35:\n",
        "  print(\"Это два\")\n"
      ],
      "execution_count": null,
      "outputs": []
    },
    {
      "cell_type": "markdown",
      "metadata": {
        "id": "n1aFLC3aWJB1"
      },
      "source": [
        "### Задачка эпизода 2"
      ]
    },
    {
      "cell_type": "markdown",
      "metadata": {
        "id": "Bbg9pzVIWL1g"
      },
      "source": [
        "Если пользователь ввел число N, вывести с учетом окончания:\n",
        "\n",
        "*   3 питона\n",
        "*   7 питонов\n",
        "*   15 питонов\n",
        "*   21 питон\n",
        "*   23 питона\n",
        "*   56 питонов\n",
        "\n",
        "Используйте оператор остатка от деления %."
      ]
    },
    {
      "cell_type": "code",
      "metadata": {
        "id": "SQIiH2DqWG9x",
        "colab": {
          "base_uri": "https://localhost:8080/"
        },
        "outputId": "7cfb91d0-2705-4a3b-ba09-0cb82b7cbd80"
      },
      "source": [
        "python_count = int(input(\"Сколько питонов\"))\n",
        "\n",
        "# если 11-19 – питонов\n",
        "# если последняя цифра 1 – питон\n",
        "# если последняя цифра 2-3-4 – питона\n",
        "# иначе – питонов\n",
        "\n",
        "last_digit = python_count % 10\n",
        "\n",
        "if 11 <= python_count <= 19:\n",
        "  morphy = \"питонов\"\n",
        "elif last_digit == 1:\n",
        "  morphy = \"питон\"\n",
        "elif 2 <= last_digit <= 4:\n",
        "  morphy = \"питона\"\n",
        "else:\n",
        "  morphy = \"питонов\"\n",
        "\n",
        "\n",
        "print(python_count, morphy)"
      ],
      "execution_count": null,
      "outputs": [
        {
          "output_type": "stream",
          "text": [
            "Сколько питонов1\n",
            "1 питон\n"
          ],
          "name": "stdout"
        }
      ]
    },
    {
      "cell_type": "markdown",
      "metadata": {
        "id": "K9u0MF-bfjtu"
      },
      "source": [
        "## Часть 2. Эпизод 3"
      ]
    },
    {
      "cell_type": "markdown",
      "metadata": {
        "id": "dQsn9N9bfmZg"
      },
      "source": [
        "### Система наименований"
      ]
    },
    {
      "cell_type": "code",
      "metadata": {
        "id": "g4Xb3ghKfp8-"
      },
      "source": [
        "# Нехорошо\n",
        "\n",
        "s = 45\n",
        "o = \"Мы открыты, заходите, пожалуйста!\"\n",
        "a = True\n",
        "\n",
        "# Не в стиле Python\n",
        "\n",
        "StudentsCount = 45\n",
        "Message = \"Мы открыты, заходите, пожалуйста!\"\n",
        "active = True\n",
        "\n",
        "# Хорошо\n",
        "\n",
        "student_count = 45\n",
        "open_message = \"Мы открыты, заходите, пожалуйста!\"\n",
        "is_active = True"
      ],
      "execution_count": null,
      "outputs": []
    },
    {
      "cell_type": "markdown",
      "metadata": {
        "id": "Lhtk72Csfxoi"
      },
      "source": [
        "### Пробелы вокруг операторов"
      ]
    },
    {
      "cell_type": "code",
      "metadata": {
        "id": "HvGq74ojfziv"
      },
      "source": [
        "# Нехорошо\n",
        "\n",
        "students_count=12\n",
        "group_id=1620\n",
        "teacher_name=\"Дмитриева Клементина\"\n",
        "\n",
        "# Хорошо\n",
        "\n",
        "students_count = 12\n",
        "group_id = 1620\n",
        "teacher_name = \"Дмитриева Клементина\""
      ],
      "execution_count": null,
      "outputs": []
    },
    {
      "cell_type": "code",
      "metadata": {
        "id": "-GlKBldrf4J1"
      },
      "source": [
        "# Нехорошо\n",
        "\n",
        "a==b # равно\n",
        "a!=b # не равно\n",
        "a<b  # меньше\n",
        "a   in   b # a содержится в b\n",
        "\n",
        "# Хорошо\n",
        "\n",
        "a == b # равно\n",
        "a != b # не равно\n",
        "a < b  # меньше\n",
        "a in b # a содержится в b"
      ],
      "execution_count": null,
      "outputs": []
    },
    {
      "cell_type": "markdown",
      "metadata": {
        "id": "5GdcaVBDf1O9"
      },
      "source": [
        "### Пробелы после запятой при вызове функций"
      ]
    },
    {
      "cell_type": "code",
      "metadata": {
        "id": "uGBn2lwff6Tg"
      },
      "source": [
        "# Нехорошо\n",
        "\n",
        "print(\"оформление\",\"это\",\"важно\")\n",
        "\n",
        "# Гораздо лучше\n",
        "\n",
        "print(\"оформление\", \"это\", \"важно\")"
      ],
      "execution_count": null,
      "outputs": []
    },
    {
      "cell_type": "markdown",
      "metadata": {
        "id": "2N8E3zEOf8xg"
      },
      "source": [
        "### 4 пробела в блоках"
      ]
    },
    {
      "cell_type": "markdown",
      "metadata": {
        "id": "RDXl__MYgA_n"
      },
      "source": [
        "Отступы в Python можно делать табами или пробелами, причем их может быть 2, 4 или 8.\n",
        "\n",
        "PEP8 рекомендует использовать 4 пробела.\n"
      ]
    },
    {
      "cell_type": "code",
      "metadata": {
        "id": "ow0CnRRogBZH"
      },
      "source": [
        "# Два пробела – допустимо, но не желательно\n",
        "\n",
        "if pep == 8:\n",
        "  print(“Все отлично!”)\n",
        "\n",
        "# Четыре пробела – замечательно\n",
        "\n",
        "if pep == 8:\n",
        "    print(“Все отлично!”)"
      ],
      "execution_count": null,
      "outputs": []
    },
    {
      "cell_type": "markdown",
      "metadata": {
        "id": "YSadIsGhgEhn"
      },
      "source": [
        "### Логические блоки можно разделять пустыми строками"
      ]
    },
    {
      "cell_type": "code",
      "metadata": {
        "id": "RvFPowBVgE82",
        "colab": {
          "base_uri": "https://localhost:8080/"
        },
        "outputId": "e84caf92-4622-45f7-87b1-72a0571e240b"
      },
      "source": [
        "# Норм\n",
        "\n",
        "price = int(input())\n",
        "payment = price / 10\n",
        "payment_round = round(payment)\n",
        "print(payment_round)\n",
        "\n",
        "\n",
        "# Тоже норм\n",
        "\n",
        "price = int(input())\n",
        "\n",
        "payment = price / 10\n",
        "payment_round = round(payment)\n",
        "\n",
        "print(payment_round)\n"
      ],
      "execution_count": null,
      "outputs": [
        {
          "output_type": "stream",
          "text": [
            "12\n",
            "1\n"
          ],
          "name": "stdout"
        }
      ]
    },
    {
      "cell_type": "markdown",
      "metadata": {
        "id": "ZBIQromsgHc-"
      },
      "source": [
        "### Пустая строка в конце"
      ]
    },
    {
      "cell_type": "markdown",
      "metadata": {
        "id": "b_W1_KcUgH29"
      },
      "source": [
        "На самом деле нам нужна не строка, а символ завершения строки в конце файла.\n",
        "\n",
        "Причины этого откроются при знакомстве с файлами и записью в них."
      ]
    },
    {
      "cell_type": "code",
      "metadata": {
        "id": "0-ET93E_gKvw"
      },
      "source": [
        "#  Не хватает пустой строки\n",
        "##############\n",
        "if pep == 8:\n",
        "    print(“Все отлично!”)\n",
        "##############\n",
        "\n",
        "\n",
        "#  Гораздо лучше!\n",
        "##############\n",
        "if pep == 8:\n",
        "    print(“Все отлично!”)\n",
        "\n",
        "##############"
      ],
      "execution_count": null,
      "outputs": []
    },
    {
      "cell_type": "markdown",
      "metadata": {
        "id": "g6bicIvkWO2I"
      },
      "source": [
        "## Селфчек"
      ]
    },
    {
      "cell_type": "code",
      "metadata": {
        "id": "QtTocjfkWQbz"
      },
      "source": [
        "# Как создать булеву переменную?\n",
        "is_active = True"
      ],
      "execution_count": null,
      "outputs": []
    },
    {
      "cell_type": "code",
      "metadata": {
        "id": "Zujmk8sSWSI9"
      },
      "source": [
        "# Как инвертировать ее?\n",
        "is_active = True\n",
        "is_active = not is_active"
      ],
      "execution_count": null,
      "outputs": []
    },
    {
      "cell_type": "code",
      "metadata": {
        "id": "f6RObs8tWUvh",
        "outputId": "45c1db59-5adc-4fc5-d33e-2803827299e3",
        "colab": {
          "base_uri": "https://localhost:8080/"
        }
      },
      "source": [
        "# Как написать условие c if?\n",
        "is_active = True\n",
        "\n",
        "if is_active:\n",
        "  print(\"test\")"
      ],
      "execution_count": null,
      "outputs": [
        {
          "output_type": "stream",
          "name": "stdout",
          "text": [
            "test\n"
          ]
        }
      ]
    },
    {
      "cell_type": "code",
      "metadata": {
        "id": "MEEWd2uIWVG0",
        "outputId": "36f954a4-1956-4e6b-e6a6-902b75364c3d",
        "colab": {
          "base_uri": "https://localhost:8080/"
        }
      },
      "source": [
        "# Как написать условие c if else?\n",
        "\n",
        "is_active = True\n",
        "\n",
        "if is_active:\n",
        "  print(\"test\")\n",
        "else:\n",
        "  print(\"else\")"
      ],
      "execution_count": null,
      "outputs": [
        {
          "output_type": "stream",
          "name": "stdout",
          "text": [
            "test\n"
          ]
        }
      ]
    },
    {
      "cell_type": "code",
      "metadata": {
        "id": "0bQ1mYVdWWLY",
        "outputId": "0cd2986b-9775-4041-a618-858f52a2a5df",
        "colab": {
          "base_uri": "https://localhost:8080/"
        }
      },
      "source": [
        "# Как написать условие c elif?\n",
        "\n",
        "age = 45\n",
        "\n",
        "if age > 45:\n",
        "  print(\"test 1\")\n",
        "elif age > 25:\n",
        "  print(\"test 2\")\n",
        "else:\n",
        "  print(\"test 3\")"
      ],
      "execution_count": null,
      "outputs": [
        {
          "output_type": "stream",
          "name": "stdout",
          "text": [
            "test 2\n"
          ]
        }
      ]
    }
  ]
}