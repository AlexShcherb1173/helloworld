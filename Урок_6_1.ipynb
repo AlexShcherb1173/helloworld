{
  "nbformat": 4,
  "nbformat_minor": 0,
  "metadata": {
    "colab": {
      "provenance": [],
      "include_colab_link": true
    },
    "kernelspec": {
      "name": "python3",
      "display_name": "Python 3"
    },
    "language_info": {
      "name": "python"
    }
  },
  "cells": [
    {
      "cell_type": "markdown",
      "metadata": {
        "id": "view-in-github",
        "colab_type": "text"
      },
      "source": [
        "<a href=\"https://colab.research.google.com/github/AlexShcherb1173/helloworld/blob/master/%D0%A3%D1%80%D0%BE%D0%BA_6_1.ipynb\" target=\"_parent\"><img src=\"https://colab.research.google.com/assets/colab-badge.svg\" alt=\"Open In Colab\"/></a>"
      ]
    },
    {
      "cell_type": "markdown",
      "metadata": {
        "id": "mjkWVacHqU8J"
      },
      "source": [
        "## Эпизод 1. Привет, словари!"
      ]
    },
    {
      "cell_type": "markdown",
      "metadata": {
        "id": "zrvSFNuwuvag"
      },
      "source": [
        "### У словаря есть ключ и значение"
      ]
    },
    {
      "cell_type": "markdown",
      "metadata": {
        "id": "ikYopB5uuweQ"
      },
      "source": [
        "С помощью фигурных скобок мы создадим пустой словарь. Словарь состоит из ключа и значения. Можно провести аналогию с толковым словарем: у каждого слова в словаре есть определение. Или, например, с телефонной книгой: есть имена людей и номера телефонов — найдя нужное имя, мы узнаем номер телефона. Подобное и в словарях Python: есть ключи, у каждого ключа есть значение. Чтобы работать со словарем, его нужно создать. Сделать это можно несколькими способами."
      ]
    },
    {
      "cell_type": "markdown",
      "metadata": {
        "id": "5vFB7J_bwaP7"
      },
      "source": [
        "### Создать с помощью {}"
      ]
    },
    {
      "cell_type": "markdown",
      "metadata": {
        "id": "2LWMpJMKwdSs"
      },
      "source": [
        "Чтобы создать пустой словарь, запишем пустые фигурные скобки. Также мы можем создать словарь с некоторыми значениями, для этого в фигурных скобках указываем ключ, затем двоеточие и значение данного ключа. Элементы в словаре разделены запятой."
      ]
    },
    {
      "cell_type": "code",
      "metadata": {
        "id": "irtDyOzhuy6z",
        "colab": {
          "base_uri": "https://localhost:8080/"
        },
        "outputId": "ea2781f6-67a2-464b-d65e-c8db990916fc"
      },
      "source": [
        "d = {}\n",
        "\n",
        "print(d)"
      ],
      "execution_count": null,
      "outputs": [
        {
          "output_type": "stream",
          "text": [
            "{}\n"
          ],
          "name": "stdout"
        }
      ]
    },
    {
      "cell_type": "code",
      "metadata": {
        "id": "SMbirVdsu3rE",
        "colab": {
          "base_uri": "https://localhost:8080/"
        },
        "outputId": "16261a12-7d5d-4d7a-aab5-ea627bba0660"
      },
      "source": [
        "d = {'Лена': 3659874562, 'Андрей': 56987456215}\n",
        "\n",
        "print(d)"
      ],
      "execution_count": null,
      "outputs": [
        {
          "output_type": "stream",
          "text": [
            "{'Лена': 3659874562, 'Андрей': 56987456215}\n"
          ],
          "name": "stdout"
        }
      ]
    },
    {
      "cell_type": "code",
      "metadata": {
        "id": "CS808yffu6Ac",
        "colab": {
          "base_uri": "https://localhost:8080/"
        },
        "outputId": "68f77629-e0d9-45a0-b7a2-f46c71b328d7"
      },
      "source": [
        "d = {'python': 'Язык программирования', 'Андрей': 'Имя человека'}\n",
        "\n",
        "print(d)"
      ],
      "execution_count": null,
      "outputs": [
        {
          "output_type": "stream",
          "text": [
            "{'python': 'Язык программирования', 'Андрей': 'Имя человека'}\n"
          ],
          "name": "stdout"
        }
      ]
    },
    {
      "cell_type": "markdown",
      "metadata": {
        "id": "2Ieqdpypwkdk"
      },
      "source": [
        "### Создать с помощью функции dict"
      ]
    },
    {
      "cell_type": "markdown",
      "metadata": {
        "id": "Jw5yasy-wotC"
      },
      "source": [
        "Еще один способ создать словарь — с помощью функции `dict`. В нее передаем ключ (без кавычек), ставим знак присваивания (равно) и пишем значение. Элементы разделяем запятой."
      ]
    },
    {
      "cell_type": "code",
      "metadata": {
        "id": "KzLL13Cvu7gi",
        "colab": {
          "base_uri": "https://localhost:8080/"
        },
        "outputId": "645ac992-bcf0-4e8b-bbbf-4855b292c9b2"
      },
      "source": [
        "d = dict(Лена=3659874562, Андрей=56987456215)\n",
        "\n",
        "print(d)"
      ],
      "execution_count": null,
      "outputs": [
        {
          "output_type": "stream",
          "text": [
            "{'Лена': 3659874562, 'Андрей': 56987456215}\n"
          ],
          "name": "stdout"
        }
      ]
    },
    {
      "cell_type": "markdown",
      "metadata": {
        "id": "cI4kyuC5vAgC"
      },
      "source": [
        "### По ключу мы можем получить значение ключа"
      ]
    },
    {
      "cell_type": "markdown",
      "metadata": {
        "id": "SJROrVp3vECo"
      },
      "source": [
        "Чтобы получить информацию из словаря, мы должны обратиться к ключу. Для этого пишем имя словаря, ставим квадратные скобки и в квадратных скобках пишем ключ. Нам вернется значение этого ключа."
      ]
    },
    {
      "cell_type": "code",
      "metadata": {
        "id": "h2iFTA9LvFx_",
        "colab": {
          "base_uri": "https://localhost:8080/"
        },
        "outputId": "4c37e649-456d-4b88-c0fa-ca1b530681b3"
      },
      "source": [
        "d = {'Лена': 3659874562, 'Андрей': 56987456215}\n",
        "\n",
        "print(d['Лена'])"
      ],
      "execution_count": null,
      "outputs": [
        {
          "output_type": "stream",
          "text": [
            "3659874562\n"
          ],
          "name": "stdout"
        }
      ]
    },
    {
      "cell_type": "code",
      "metadata": {
        "id": "Q89HkrJgvIZL",
        "colab": {
          "base_uri": "https://localhost:8080/"
        },
        "outputId": "e011371f-cfa9-45f3-aa1d-0451b66851fb"
      },
      "source": [
        "d = {'Лена': 3659874562, 'Андрей': 56987456215}\n",
        "\n",
        "print(d['Андрей'])"
      ],
      "execution_count": null,
      "outputs": [
        {
          "output_type": "stream",
          "text": [
            "56987456215\n"
          ],
          "name": "stdout"
        }
      ]
    },
    {
      "cell_type": "code",
      "metadata": {
        "id": "Clri6pzcvMGl",
        "colab": {
          "base_uri": "https://localhost:8080/"
        },
        "outputId": "c4fcd9a7-7d53-4efb-ca1b-282a19ede040"
      },
      "source": [
        "d = {'python': 'Язык программирования', 'Андрей': 'Имя человека'}\n",
        "\n",
        "print(d['python'])"
      ],
      "execution_count": null,
      "outputs": [
        {
          "output_type": "stream",
          "text": [
            "Язык программирования\n"
          ],
          "name": "stdout"
        }
      ]
    },
    {
      "cell_type": "markdown",
      "metadata": {
        "id": "-tf6IA61vRpj"
      },
      "source": [
        "### Ключом может быть"
      ]
    },
    {
      "cell_type": "markdown",
      "metadata": {
        "id": "RrJnN3PcvUms"
      },
      "source": [
        "Ключами в словаре могут быть любые неизменяемые типы данных, например строки, числа, булевый тип и т. д."
      ]
    },
    {
      "cell_type": "code",
      "metadata": {
        "id": "nK85E5PDvWue",
        "colab": {
          "base_uri": "https://localhost:8080/"
        },
        "outputId": "fafb8f5d-8241-4542-ded0-d94f275392aa"
      },
      "source": [
        "d = {'Лена': 3659874562, 59: 'Это число', 3.14: 'Число Pi', True: 1}\n",
        "\n",
        "print(d)\n",
        "print(d[True])"
      ],
      "execution_count": null,
      "outputs": [
        {
          "output_type": "stream",
          "text": [
            "{'Лена': 3659874562, 59: 'Это число', 3.14: 'Число Pi', True: 1}\n",
            "1\n"
          ],
          "name": "stdout"
        }
      ]
    },
    {
      "cell_type": "code",
      "metadata": {
        "id": "0D7cDHPbIvSD",
        "colab": {
          "base_uri": "https://localhost:8080/"
        },
        "outputId": "c778a0e1-330b-4732-a4e1-e1d8a2efff5c"
      },
      "source": [
        "explanations = {True: \"Да, все норм\", False: \"Не, так не пойдет\"}\n",
        "\n",
        "print(explanations[1>2])\n",
        "\n",
        "# if 3>2:\n",
        "#   print(explanations[True])\n",
        "# else:\n",
        "#   print(explanations[False])"
      ],
      "execution_count": null,
      "outputs": [
        {
          "output_type": "stream",
          "text": [
            "Не, так не пойдет\n"
          ],
          "name": "stdout"
        }
      ]
    },
    {
      "cell_type": "markdown",
      "metadata": {
        "id": "9LnxBifEvgou"
      },
      "source": [
        "### Значением может быть любой тип данных"
      ]
    },
    {
      "cell_type": "markdown",
      "metadata": {
        "id": "GyZzSRTMvkBo"
      },
      "source": [
        "Значением ключа в словаре может быть любой тип данных: строки, числа, булево значение, списки и т. д."
      ]
    },
    {
      "cell_type": "code",
      "metadata": {
        "id": "mBSHYUTZvmhq",
        "colab": {
          "base_uri": "https://localhost:8080/"
        },
        "outputId": "4a8e3b18-647a-4a89-cf35-63474eb5b389"
      },
      "source": [
        "d = {'Число': 22, 'Строка': 'Какойто текст', 'Это список': [1, 2, 3]}\n",
        "\n",
        "print(d)"
      ],
      "execution_count": null,
      "outputs": [
        {
          "output_type": "stream",
          "text": [
            "{'Число': 22, 'Строка': 'Какойто текст', 'Это список': [1, 2, 3]}\n"
          ],
          "name": "stdout"
        }
      ]
    },
    {
      "cell_type": "markdown",
      "metadata": {
        "id": "qNwzHj8QukTs"
      },
      "source": [
        "### Словарь — это изменяемый тип данных"
      ]
    },
    {
      "cell_type": "markdown",
      "metadata": {
        "id": "wbEG1BNdupqg"
      },
      "source": [
        "Словарь в Python — упорядоченная коллекция произвольных объектов с доступом по ключу. Их иногда еще называют ассоциативными массивами или хеш-таблицами."
      ]
    },
    {
      "cell_type": "code",
      "metadata": {
        "id": "11P-GWxgIH6y",
        "colab": {
          "base_uri": "https://localhost:8080/"
        },
        "outputId": "3d9d48fb-45f1-4693-c835-0a4dc6a5210b"
      },
      "source": [
        "dictionary = {\"cat\": \"Котейка\"}\n",
        "dictionary[\"dog\"] = \"Собака\"\n",
        "\n",
        "print(dictionary)\n",
        "\n",
        "dictionary[\"cat\"] = \"Кошка\"\n",
        "\n",
        "print(dictionary)\n",
        "\n",
        "del dictionary[\"cat\"]\n",
        "\n",
        "print(dictionary)"
      ],
      "execution_count": null,
      "outputs": [
        {
          "output_type": "stream",
          "text": [
            "{'cat': 'Котейка', 'dog': 'Собака'}\n",
            "{'cat': 'Кошка', 'dog': 'Собака'}\n",
            "{'dog': 'Собака'}\n"
          ],
          "name": "stdout"
        }
      ]
    },
    {
      "cell_type": "markdown",
      "metadata": {
        "id": "MGiLLdGupo0P"
      },
      "source": [
        "### Задачка эпизода 1"
      ]
    },
    {
      "cell_type": "markdown",
      "metadata": {
        "id": "Qh2RU2A8puYJ"
      },
      "source": [
        "В программе задан словарь. Пользователь вводит слово. Если оно есть, выводится перевод.\n",
        "\n",
        "Введите слово:\n",
        "`> cat`\n",
        "\n",
        "Перевод: `Котейка`\n",
        "\n"
      ]
    },
    {
      "cell_type": "code",
      "metadata": {
        "id": "4Y8hhxQaJMjt",
        "colab": {
          "base_uri": "https://localhost:8080/"
        },
        "outputId": "61c57549-b798-451e-a092-86ce76d0307d"
      },
      "source": [
        "dictionary = {\n",
        "  \"cat\": \"Кошка\",\n",
        "  \"dog\": \"Собака\",\n",
        "  \"owl\": \"Сова\",\n",
        "}\n",
        "\n",
        "word = input(\"Введите слово \")\n",
        "\n",
        "if word in dictionary:\n",
        "  print(f\"Перевод: {dictionary[word]}\")"
      ],
      "execution_count": null,
      "outputs": [
        {
          "output_type": "stream",
          "text": [
            "Введите слово cat\n",
            "Перевод: Кошка\n"
          ],
          "name": "stdout"
        }
      ]
    },
    {
      "cell_type": "markdown",
      "metadata": {
        "id": "lSl-dSWZpsEv"
      },
      "source": [
        "## Эпизод 2. Операции со словарями"
      ]
    },
    {
      "cell_type": "markdown",
      "metadata": {
        "id": "NhbIGvz0vvh6"
      },
      "source": [
        "### Можно менять и добавлять значения"
      ]
    },
    {
      "cell_type": "markdown",
      "metadata": {
        "id": "VltQoBidvw20"
      },
      "source": [
        "Мы можем менять значение ключа в словаре. Для этого пишем имя словаря, ставим квадратные скобки, указываем ключ и после знака равно пишем то значение, которое хотим присвоить этому ключу. Если такой ключ есть, то его значение перезапишется. Если ключ отсутствует, то он будет создан и ему будет присвоено это значение."
      ]
    },
    {
      "cell_type": "code",
      "metadata": {
        "id": "k5trerWuvzXu",
        "colab": {
          "base_uri": "https://localhost:8080/"
        },
        "outputId": "d5e009d5-0eb2-45dd-feba-fbdeaff67301"
      },
      "source": [
        "d = {'John': 'john33@gamil.com', 'Bobi': 'bob_1997@mail.ru'}\n",
        "print(d)\n",
        "\n",
        "d['John'] = 'new_john@gamil.com'\n",
        "print(d)"
      ],
      "execution_count": null,
      "outputs": [
        {
          "output_type": "stream",
          "text": [
            "{'John': 'john33@gamil.com', 'Bobi': 'bob_1997@mail.ru'}\n",
            "{'John': 'new_john@gamil.com', 'Bobi': 'bob_1997@mail.ru'}\n"
          ],
          "name": "stdout"
        }
      ]
    },
    {
      "cell_type": "code",
      "metadata": {
        "id": "YoXhWFlUv5nW",
        "colab": {
          "base_uri": "https://localhost:8080/"
        },
        "outputId": "854b35ca-6737-47e2-d10a-c3c94ef799e7"
      },
      "source": [
        "d = {'John': 'john33@gamil.com', 'Bobi': 'bob_1997@mail.ru'}\n",
        "print(d)\n",
        "\n",
        "d['Lena'] = 'elena@mail.com'\n",
        "print(d)"
      ],
      "execution_count": null,
      "outputs": [
        {
          "output_type": "stream",
          "text": [
            "{'John': 'john33@gamil.com', 'Bobi': 'bob_1997@mail.ru'}\n",
            "{'John': 'john33@gamil.com', 'Bobi': 'bob_1997@mail.ru', 'Lena': 'elena@mail.com'}\n"
          ],
          "name": "stdout"
        }
      ]
    },
    {
      "cell_type": "markdown",
      "metadata": {
        "id": "dzrZ3G5xwBbp"
      },
      "source": [
        "### Можно удалять значения"
      ]
    },
    {
      "cell_type": "markdown",
      "metadata": {
        "id": "N65_ex6jwCoS"
      },
      "source": [
        "Чтобы удалить ключ или значение из словаря, можно воспользоваться оператором `del`. Пишем `del`, затем имя словаря с ключом в фигурных скобках."
      ]
    },
    {
      "cell_type": "code",
      "metadata": {
        "id": "af_Fjgl8wEKt",
        "colab": {
          "base_uri": "https://localhost:8080/"
        },
        "outputId": "555de658-6bbf-48db-860c-cbb44b868f2a"
      },
      "source": [
        "d = {'John': 'john33@gamil.com', 'Bobi': 'bob_1997@mail.ru'}\n",
        "print(d)\n",
        "\n",
        "# d['Bobi'] = None\n",
        "\n",
        "del d['Bobi']\n",
        "print(d)"
      ],
      "execution_count": null,
      "outputs": [
        {
          "output_type": "stream",
          "text": [
            "{'John': 'john33@gamil.com', 'Bobi': 'bob_1997@mail.ru'}\n",
            "{'John': 'john33@gamil.com'}\n"
          ],
          "name": "stdout"
        }
      ]
    },
    {
      "cell_type": "code",
      "metadata": {
        "id": "VCWuVBEywIrA",
        "colab": {
          "base_uri": "https://localhost:8080/"
        },
        "outputId": "f49e5ff4-900f-43c4-95b9-13344c32974d"
      },
      "source": [
        "d = {'John': 'john33@gamil.com', 'Bobi': 'bob_1997@mail.ru'}\n",
        "print(d)\n",
        "\n",
        "del d['John']\n",
        "print(d)"
      ],
      "execution_count": null,
      "outputs": [
        {
          "output_type": "stream",
          "text": [
            "{'John': 'john33@gamil.com', 'Bobi': 'bob_1997@mail.ru'}\n",
            "{'Bobi': 'bob_1997@mail.ru'}\n"
          ],
          "name": "stdout"
        }
      ]
    },
    {
      "cell_type": "markdown",
      "metadata": {
        "id": "A0T_Y_pgKGhV"
      },
      "source": [
        "### Задачка эпизода 2"
      ]
    },
    {
      "cell_type": "markdown",
      "metadata": {
        "id": "297ThNTzAovq"
      },
      "source": [
        "В магазине взвешивают фрукты. Давайте напишем программу, чтобы называть фрукт и получать его стоимость.\n",
        "\n",
        "> Программа: `Выберите фрукт`\n",
        "\n",
        "> Пользователь: `яблоки`\n",
        "\n",
        "> Программа: `Вес в граммах`\n",
        "\n",
        "> Пользователь: `500`\n",
        "\n",
        "> Программа:  `Цена: 75 денег`\n"
      ]
    },
    {
      "cell_type": "code",
      "metadata": {
        "id": "3O2Wbk-1KI1Y",
        "colab": {
          "base_uri": "https://localhost:8080/"
        },
        "outputId": "401e37bc-c318-4f14-e123-20989b228fd8"
      },
      "source": [
        "store = {\n",
        "  \"яблоки\": 100,\n",
        "  \"груши\": 200,\n",
        "  \"ананасы\": 300,\n",
        "}\n",
        "\n",
        "fruit = input(\"Выберите фрукт \")\n",
        "\n",
        "price = store[fruit]\n",
        "\n",
        "weight = int(input(\"Вес в граммах\"))\n",
        "\n",
        "total = price * weight / 1000\n",
        "\n",
        "print(f\"Цена: {total} денег\")"
      ],
      "execution_count": null,
      "outputs": [
        {
          "output_type": "stream",
          "text": [
            "Выберите фрукт яблоки\n",
            "Вес в граммах1000\n",
            "Цена: 100.0 денег\n"
          ],
          "name": "stdout"
        }
      ]
    },
    {
      "cell_type": "markdown",
      "metadata": {
        "id": "H-NquZtBqLpa"
      },
      "source": [
        "## Эпизод 3. Методы словарей"
      ]
    },
    {
      "cell_type": "markdown",
      "metadata": {
        "id": "VUtoTnedzSAJ"
      },
      "source": [
        "### При итерации по словарю мы получаем ключи"
      ]
    },
    {
      "cell_type": "markdown",
      "metadata": {
        "id": "2nenOwlfzT2U"
      },
      "source": [
        "Можно перебрать словарь с помощью цикла `for`. При каждой итерации цикла мы получаем ключ из словаря. Давайте переберем словарь циклом и выведем ключ и значение."
      ]
    },
    {
      "cell_type": "code",
      "metadata": {
        "id": "CG7RMlhBzV1n",
        "colab": {
          "base_uri": "https://localhost:8080/"
        },
        "outputId": "408feb1a-bcc3-4b5c-d531-ad00a44fd9ba"
      },
      "source": [
        "d = {'John': 'john33@gamil.com', 'Bobi': 'bob_1997@mail.ru'}\n",
        "\n",
        "for k in d:\n",
        "  print(\"Это ключ\", k)\n",
        "  print(\"Это значение\", d[k])"
      ],
      "execution_count": null,
      "outputs": [
        {
          "output_type": "stream",
          "text": [
            "Это ключ John\n",
            "Это значение john33@gamil.com\n",
            "Это ключ Bobi\n",
            "Это значение bob_1997@mail.ru\n"
          ],
          "name": "stdout"
        }
      ]
    },
    {
      "cell_type": "markdown",
      "metadata": {
        "id": "pSGAhQfwzadK"
      },
      "source": [
        "### У словарей есть полезные методы"
      ]
    },
    {
      "cell_type": "markdown",
      "metadata": {
        "id": "Ug8NyBhCzekw"
      },
      "source": [
        "### Метод items"
      ]
    },
    {
      "cell_type": "markdown",
      "metadata": {
        "id": "PB1Bki-uziw2"
      },
      "source": [
        "Чтобы при переборе словаря циклом `for` получить сразу и ключ, и значение, нужно воспользоваться методом `items`. Посмотрим пример."
      ]
    },
    {
      "cell_type": "code",
      "metadata": {
        "id": "S4FICr8UznmY",
        "colab": {
          "base_uri": "https://localhost:8080/"
        },
        "outputId": "4df7e3fb-ae18-4a13-c9c3-875b586b8f42"
      },
      "source": [
        "d = {'John': 'john33@gamil.com', 'Bobi': 'bob_1997@mail.ru'}\n",
        "\n",
        "# print(d.items())\n",
        "\n",
        "for k, v in d.items():\n",
        "  print(f\"Ключ: {k}, значение: {v}\")"
      ],
      "execution_count": null,
      "outputs": [
        {
          "output_type": "stream",
          "text": [
            "Ключ: John, значение: john33@gamil.com\n",
            "Ключ: Bobi, значение: bob_1997@mail.ru\n"
          ],
          "name": "stdout"
        }
      ]
    },
    {
      "cell_type": "markdown",
      "metadata": {
        "id": "Q6VLeAJ3zyRa"
      },
      "source": [
        "### Метод keys"
      ]
    },
    {
      "cell_type": "markdown",
      "metadata": {
        "id": "S9bhEVqnz2PM"
      },
      "source": [
        " Чтобы получить все ключи в словаре, нужно использовать метод `keys`."
      ]
    },
    {
      "cell_type": "code",
      "metadata": {
        "id": "2DJRUEB2z51e",
        "colab": {
          "base_uri": "https://localhost:8080/"
        },
        "outputId": "88b40f6b-769d-42ae-d874-353c085ee690"
      },
      "source": [
        "d = {'John': 'john33@gamil.com', 'Bobi': 'bob_1997@mail.ru'}\n",
        "\n",
        "# print(d.keys())\n",
        "\n",
        "for item in d.keys():\n",
        "  print(item)\n",
        "\n"
      ],
      "execution_count": null,
      "outputs": [
        {
          "output_type": "stream",
          "text": [
            "John\n",
            "Bobi\n"
          ],
          "name": "stdout"
        }
      ]
    },
    {
      "cell_type": "markdown",
      "metadata": {
        "id": "XBpct9r3z9pc"
      },
      "source": [
        "### Метод values"
      ]
    },
    {
      "cell_type": "markdown",
      "metadata": {
        "id": "f-GEyus60BDk"
      },
      "source": [
        "А вот чтобы получить все значения, нам нужно воспользоваться методом `vаlues`. Например:"
      ]
    },
    {
      "cell_type": "code",
      "metadata": {
        "id": "QGV9vPUV0HAE",
        "colab": {
          "base_uri": "https://localhost:8080/"
        },
        "outputId": "63be5a0b-2517-4522-c625-5e1fb5e89594"
      },
      "source": [
        "d = {'John': 'john33@gamil.com', 'Bobi': 'bob_1997@mail.ru'}\n",
        "\n",
        "# print(d.values())\n",
        "\n",
        "for item in d.values():\n",
        "  print(item)\n"
      ],
      "execution_count": null,
      "outputs": [
        {
          "output_type": "stream",
          "text": [
            "john33@gamil.com\n",
            "bob_1997@mail.ru\n"
          ],
          "name": "stdout"
        }
      ]
    },
    {
      "cell_type": "markdown",
      "metadata": {
        "id": "ZQ81u6g5NDFs"
      },
      "source": [
        "### Задачка эпизода 3"
      ]
    },
    {
      "cell_type": "markdown",
      "metadata": {
        "id": "PP_k6GCp_g-l"
      },
      "source": [
        "Например, вы отправились в ресторан и решили поделить счет. Выведем список гостей и итоговую сумму счета:\n",
        "```\n",
        "> Гости: Алексей, Василиса, Олег, Даша\n",
        "\n",
        "> Сумма: 2560\n",
        "\n",
        "```\n",
        "\n"
      ]
    },
    {
      "cell_type": "code",
      "metadata": {
        "id": "7rCQjnIsMJWm",
        "colab": {
          "base_uri": "https://localhost:8080/"
        },
        "outputId": "0058da36-87c9-40ff-e191-3e53d889385b"
      },
      "source": [
        "guests = {\n",
        "  \"Алексей\": 500,\n",
        "  \"Василиса\": 1200,\n",
        "  \"Олег\": 950,\n",
        "  \"Даша\": 8000,\n",
        "}\n",
        "\n",
        "guests_names = ', '.join(guests.keys())\n",
        "\n",
        "print(f\"Гости: {guests_names}\")\n",
        "\n",
        "total = 0\n",
        "\n",
        "for sum in guests.values():\n",
        "  total += sum\n",
        "\n",
        "print(f\"Сумма: {total}\")\n"
      ],
      "execution_count": null,
      "outputs": [
        {
          "output_type": "stream",
          "text": [
            "Гости: Алексей, Василиса, Олег, Даша\n",
            "Сумма: 10650\n"
          ],
          "name": "stdout"
        }
      ]
    },
    {
      "cell_type": "markdown",
      "metadata": {
        "id": "6ZjFc_kjPj40"
      },
      "source": [
        "## Селфчек"
      ]
    },
    {
      "cell_type": "code",
      "metadata": {
        "id": "4YG4kP-qPmdY"
      },
      "source": [
        "# Как создать словарь с числами, строками, булевыми переменными?\n",
        "dict_of_numbers = {\"one\":1, \"two\":2, \"three\":3}\n",
        "dict_of_numbers = {1:\"one\", 2:\"two\", 3:\"three\"}\n",
        "\n",
        "\n",
        "dict_of_bools = {True: \"Правда\", False: \"Неправда\" }"
      ],
      "execution_count": null,
      "outputs": []
    },
    {
      "cell_type": "code",
      "metadata": {
        "id": "APKFIMbfPx3w"
      },
      "source": [
        "# Как получить элемент словаря?\n",
        "stats = {\"correct\":1, \"incorrect\":3, \"total\":3}\n",
        "\n",
        "stats[\"correct\"]"
      ],
      "execution_count": null,
      "outputs": []
    },
    {
      "cell_type": "code",
      "metadata": {
        "id": "SQpdpXt8QfV4"
      },
      "source": [
        "# Как поменять элемент в словаре?\n",
        "stats = {\"correct\":1, \"incorrect\":3, \"total\":3}\n",
        "\n",
        "stats[\"correct\"] = 2\n",
        "\n",
        "print(stats)"
      ],
      "execution_count": null,
      "outputs": []
    },
    {
      "cell_type": "code",
      "metadata": {
        "id": "0sWru196QnCu"
      },
      "source": [
        "# Как удалить элемент из словаря?\n",
        "stats = {\"correct\":1, \"incorrect\":3, \"total\":3}\n",
        "\n",
        "del stats[\"correct\"]\n",
        "\n",
        "print(stats)"
      ],
      "execution_count": null,
      "outputs": []
    },
    {
      "cell_type": "code",
      "metadata": {
        "id": "HQ2_EXEXQsf_"
      },
      "source": [
        "# Как вывести всё из словаря в формате «ключ – значение»?\n",
        "stats = {\"correct\":1, \"incorrect\":3, \"total\":3}\n",
        "\n",
        "for key, item in stats.items():\n",
        "  print(key,item)"
      ],
      "execution_count": null,
      "outputs": []
    },
    {
      "cell_type": "code",
      "metadata": {
        "id": "PDI74VOnRQNp"
      },
      "source": [
        "# Как вывести все ключи? Все значения?\n",
        "stats = {\"correct\":1, \"incorrect\":3, \"total\":3}\n",
        "\n",
        "print(stats.keys())\n",
        "print(stats.values())\n"
      ],
      "execution_count": null,
      "outputs": []
    }
  ]
}