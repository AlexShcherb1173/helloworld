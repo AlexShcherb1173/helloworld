{
  "nbformat": 4,
  "nbformat_minor": 0,
  "metadata": {
    "colab": {
      "provenance": [],
      "collapsed_sections": [
        "Pr6GF2zGg0WI",
        "iqSZ9pRh9Z7V",
        "cLNICmY4E8KP",
        "iCC8sbcnGsWh",
        "Ss7uBK-ZAVXm",
        "nugDtHzrE-h0",
        "11REjDa7FAFT",
        "rmVdkICEAr7a"
      ],
      "include_colab_link": true
    },
    "kernelspec": {
      "name": "python3",
      "display_name": "Python 3"
    },
    "language_info": {
      "name": "python"
    }
  },
  "cells": [
    {
      "cell_type": "markdown",
      "metadata": {
        "id": "view-in-github",
        "colab_type": "text"
      },
      "source": [
        "<a href=\"https://colab.research.google.com/github/AlexShcherb1173/helloworld/blob/master/%D0%A3%D1%80%D0%BE%D0%BA_3_1.ipynb\" target=\"_parent\"><img src=\"https://colab.research.google.com/assets/colab-badge.svg\" alt=\"Open In Colab\"/></a>"
      ]
    },
    {
      "cell_type": "markdown",
      "metadata": {
        "id": "Pr6GF2zGg0WI"
      },
      "source": [
        "## Эпизод 1"
      ]
    },
    {
      "cell_type": "markdown",
      "metadata": {
        "id": "7FzcUy0Rg4Cw"
      },
      "source": [
        "### Списки в Python"
      ]
    },
    {
      "cell_type": "markdown",
      "metadata": {
        "id": "2Ygn2H7WhfrH"
      },
      "source": [
        "В списке покупок товары перечисляются через запятую. В Python тоже перечисляем через запятую то, что мы хотим положить в список. Наша группа объектов или значений может состоять из объектов любого типа. Мы просто перечисляем их, и всё это хранится в одной переменной.\n",
        "\n"
      ]
    },
    {
      "cell_type": "code",
      "metadata": {
        "id": "7xtwiKI2hloB",
        "colab": {
          "base_uri": "https://localhost:8080/"
        },
        "outputId": "46892563-3dd4-4acb-ff73-a68017bd08f9"
      },
      "source": [
        "[\"deer\", \"bear\", \"rabbit\", \"butterfly\"]"
      ],
      "execution_count": null,
      "outputs": [
        {
          "output_type": "execute_result",
          "data": {
            "text/plain": [
              "['deer', 'bear', 'rabbit', 'butterfly']"
            ]
          },
          "metadata": {
            "tags": []
          },
          "execution_count": 3
        }
      ]
    },
    {
      "cell_type": "code",
      "metadata": {
        "id": "iVsnTomMhmxt"
      },
      "source": [
        "[5162, 1337, 2345, 9999]"
      ],
      "execution_count": null,
      "outputs": []
    },
    {
      "cell_type": "markdown",
      "metadata": {
        "id": "Aa3YGogthfs6"
      },
      "source": [
        "Списки можно также сохранять в переменную. Наша группа объектов или значений может состоять из объектов любого типа. Мы просто перечисляем их, и всё это хранится в одной переменной.\n"
      ]
    },
    {
      "cell_type": "code",
      "metadata": {
        "id": "Lhv6l4EmiGYV",
        "colab": {
          "base_uri": "https://localhost:8080/"
        },
        "outputId": "071b9f13-587d-4020-d7d6-9ea95d3b3fb5"
      },
      "source": [
        "animals = [\"deer\", \"bear\", \"rabbit\", \"butterfly\"]\n",
        "print(animals)"
      ],
      "execution_count": null,
      "outputs": [
        {
          "output_type": "stream",
          "text": [
            "['deer', 'bear', 'rabbit', 'butterfly']\n"
          ],
          "name": "stdout"
        }
      ]
    },
    {
      "cell_type": "code",
      "metadata": {
        "id": "6ty7CP0SiItW",
        "colab": {
          "base_uri": "https://localhost:8080/"
        },
        "outputId": "2547d27d-8ddf-4b90-93ef-08008dae6d1c"
      },
      "source": [
        "stolen_pin_codes = [5162, 1337, 2345, 9999, \"test\"]\n",
        "print(stolen_pin_codes)"
      ],
      "execution_count": null,
      "outputs": [
        {
          "output_type": "stream",
          "text": [
            "[5162, 1337, 2345, 9999, 'test']\n"
          ],
          "name": "stdout"
        }
      ]
    },
    {
      "cell_type": "markdown",
      "metadata": {
        "id": "F624RKHGhfwf"
      },
      "source": [
        "Аналогично тому, как мы можем с помощью функции `print` вывести число или строку, мы точно так же можем вывести список с его содержимым.\n",
        "\n"
      ]
    },
    {
      "cell_type": "code",
      "metadata": {
        "id": "RsFqkuMCiRsW"
      },
      "source": [
        "animals = [\"deer\", \"bear\", \"rabbit\", \"butterfly\"]\n",
        "print(animals)"
      ],
      "execution_count": null,
      "outputs": []
    },
    {
      "cell_type": "markdown",
      "metadata": {
        "id": "huGQU-eZkx72"
      },
      "source": [
        "Потому что список — это отдельный тип данных."
      ]
    },
    {
      "cell_type": "code",
      "metadata": {
        "id": "CGSlz3qnk3jk",
        "colab": {
          "base_uri": "https://localhost:8080/"
        },
        "outputId": "cf06d3e6-1b4a-42a1-86c0-b0ede1e416e2"
      },
      "source": [
        "type([5162, 1337, 2345, 9999])"
      ],
      "execution_count": null,
      "outputs": [
        {
          "output_type": "execute_result",
          "data": {
            "text/plain": [
              "list"
            ]
          },
          "metadata": {
            "tags": []
          },
          "execution_count": 6
        }
      ]
    },
    {
      "cell_type": "markdown",
      "metadata": {
        "id": "s-9_mpSlhfzi"
      },
      "source": [
        "### Нумерация списков\n",
        "\n"
      ]
    },
    {
      "cell_type": "code",
      "metadata": {
        "id": "Aa9LIR_ziXc4"
      },
      "source": [
        "# ['P', 'y', 't', 'h', 'o', 'n']\n",
        "\n",
        "#   0    1    2    3    4    5"
      ],
      "execution_count": null,
      "outputs": []
    },
    {
      "cell_type": "markdown",
      "metadata": {
        "id": "m09s-R_Minl6"
      },
      "source": [
        "Исторически нумерация элементов списка начинается с нуля.\n",
        "Чтобы запомнить это, достаточно представить, что речь идет о количестве шагов,\n",
        "которые надо пройти от начала, чтобы увидеть объект.\n"
      ]
    },
    {
      "cell_type": "markdown",
      "metadata": {
        "id": "BNrZSwGai1Ud"
      },
      "source": [
        "### Достаем элемент списка по его порядковому номеру"
      ]
    },
    {
      "cell_type": "markdown",
      "metadata": {
        "id": "1UJju0oKlB4s"
      },
      "source": [
        "Идея списка в том, что мы можем достать любой элемент по его порядковому номеру.\n",
        "\n",
        "Это похоже на поиск конкретного тома в собрании сочинений в библиотеке.\n"
      ]
    },
    {
      "cell_type": "code",
      "metadata": {
        "id": "tHvvYV3wi_23",
        "colab": {
          "base_uri": "https://localhost:8080/"
        },
        "outputId": "5fd68c34-78c6-4276-9b23-cd35608ad9e4"
      },
      "source": [
        "hp_books = [\"Философский Камень\", \"Тайная Комната\", \"Узник Азкабана\"]\n",
        "print(hp_books[2])"
      ],
      "execution_count": null,
      "outputs": [
        {
          "output_type": "stream",
          "text": [
            "['Философский Камень', 'Тайная Комната', 'Узник Азкабана']\n",
            "Философский Камень\n"
          ],
          "name": "stdout"
        }
      ]
    },
    {
      "cell_type": "markdown",
      "metadata": {
        "id": "2MTtFn3Cg3F6"
      },
      "source": [
        "### Задача эпизода 1\n",
        "\n",
        "Написать программу, которая выводит прогноз погоды из списка:\n",
        "\n"
      ]
    },
    {
      "cell_type": "code",
      "metadata": {
        "id": "zb2_ldfF07XA",
        "colab": {
          "base_uri": "https://localhost:8080/"
        },
        "outputId": "2b542782-c6d5-42a0-fcfc-b8aa3837ec43"
      },
      "source": [
        "weather = [4,5,5,3,5,7,5,7,4,8,5,8,6,5,9,6,4,5,5,7,8,11,6,7,11,9,7,8,6,7,8]\n",
        "\n",
        "date = int(input(\"Введите день: \"))\n",
        "\n",
        "print(weather[date - 1])"
      ],
      "execution_count": null,
      "outputs": [
        {
          "output_type": "stream",
          "text": [
            "Введите день: 1\n",
            "4\n"
          ],
          "name": "stdout"
        }
      ]
    },
    {
      "cell_type": "markdown",
      "metadata": {
        "id": "iqSZ9pRh9Z7V"
      },
      "source": [
        "## Эпизод 2"
      ]
    },
    {
      "cell_type": "markdown",
      "metadata": {
        "id": "fRFOYMXS9dQo"
      },
      "source": [
        "У созданного списка можно получить длину, используя функцию `len`.\n",
        "\n",
        "Она похожа на `print()` или `int()`, но передается ей список, а на выходе — число."
      ]
    },
    {
      "cell_type": "code",
      "metadata": {
        "id": "YZDnWR8D9z92",
        "colab": {
          "base_uri": "https://localhost:8080/"
        },
        "outputId": "949ec933-8547-4232-d44d-e9d954737cd6"
      },
      "source": [
        "len([3,4,5])"
      ],
      "execution_count": null,
      "outputs": [
        {
          "output_type": "execute_result",
          "data": {
            "text/plain": [
              "3"
            ]
          },
          "metadata": {
            "tags": []
          },
          "execution_count": 12
        }
      ]
    },
    {
      "cell_type": "code",
      "metadata": {
        "id": "hbNG9ZCH-Keu",
        "colab": {
          "base_uri": "https://localhost:8080/"
        },
        "outputId": "81149403-ce78-431e-90dd-5e0b27c6d1da"
      },
      "source": [
        "len([\"декабрь\", \"январь\", \"февраль\"])"
      ],
      "execution_count": null,
      "outputs": [
        {
          "output_type": "execute_result",
          "data": {
            "text/plain": [
              "3"
            ]
          },
          "metadata": {
            "tags": []
          },
          "execution_count": 13
        }
      ]
    },
    {
      "cell_type": "markdown",
      "metadata": {
        "id": "Chwctjes-cVs"
      },
      "source": [
        "Новые данные в список можно добавить методом `append`."
      ]
    },
    {
      "cell_type": "code",
      "metadata": {
        "id": "IaODZJFTl6-M",
        "colab": {
          "base_uri": "https://localhost:8080/"
        },
        "outputId": "4ee58114-bfc2-4db3-caed-5edd0ef15e93"
      },
      "source": [
        "brhd_ring = [\"Арагорн\", \"Фродо\", \"Гэндальф\", \"Гимли\"]\n",
        "brhd_ring.append(\"Леголас\")\n",
        "\n",
        "print(brhd_ring)\n"
      ],
      "execution_count": null,
      "outputs": [
        {
          "output_type": "stream",
          "text": [
            "['Арагорн', 'Фродо', 'Гэндальф', 'Гимли', 'Леголас']\n"
          ],
          "name": "stdout"
        }
      ]
    },
    {
      "cell_type": "code",
      "metadata": {
        "id": "3mbZHbxNFOb_",
        "colab": {
          "base_uri": "https://localhost:8080/"
        },
        "outputId": "5ff3eb9b-fc03-4f12-9f16-00339f7fc781"
      },
      "source": [
        "digits = [1, 2, 3]\n",
        "digits.append(4)\n",
        "\n",
        "print(digits)"
      ],
      "execution_count": null,
      "outputs": [
        {
          "output_type": "stream",
          "text": [
            "[1, 2, 3, 4]\n"
          ],
          "name": "stdout"
        }
      ]
    },
    {
      "cell_type": "markdown",
      "metadata": {
        "id": "ibLSlR3W_mMj"
      },
      "source": [
        "А что за методы? Методы — ближайшие родственники функций, но существуют не сами по себе, а прицеплены к переменной. Им тоже передается значение, и они тоже могут что-нибудь вернуть. У каждого типа есть свой набор методов. Например, у типа `int` метода `append` нет, а у `list` — есть. Мы познакомимся с методами ближе, когда дойдем до классов и объектов в Python."
      ]
    },
    {
      "cell_type": "code",
      "source": [],
      "metadata": {
        "id": "ademUBRzkpAF"
      },
      "execution_count": null,
      "outputs": []
    },
    {
      "cell_type": "markdown",
      "metadata": {
        "id": "CQ99p5wO9-Qf"
      },
      "source": [
        "### Задачка эпизода 2"
      ]
    },
    {
      "cell_type": "markdown",
      "metadata": {
        "id": "BuhG5TE-HDuQ"
      },
      "source": [
        "Написать программу, которая в зависимости от пользовательского ввода дополняет исходный список. Вначале в списке всегда есть яблоки и молоко, но если мы идем на пикник — там будут шашлык и дрова, если в гости — торт и вино, а если никуда — мороженка и попкорн.\n",
        "\n",
        "Например: `Введите, куда собираетесь вечером: на пикник, в гости, никуда.`\n",
        "\n",
        "Пользователь вводит:\n",
        "`никуда`\n",
        "\n",
        "`Ваш список покупок: 4 товара [“яблоки”, “молоко”, “мороженка”, ”попкорн”]`"
      ]
    },
    {
      "cell_type": "code",
      "metadata": {
        "id": "o9wfZXwUHEDE",
        "colab": {
          "base_uri": "https://localhost:8080/"
        },
        "outputId": "3b967af1-b64b-4c62-beae-abe7b9f440c9"
      },
      "source": [
        "shopping_list = [\"яблоки\", \"молоко\"]\n",
        "\n",
        "destination = input(\"Куда пойдем? \")\n",
        "\n",
        "if destination == \"пикник\":\n",
        "  # shopping_list.append(\"шашлык\")\n",
        "  # shopping_list.append(\"дрова\")\n",
        "  shopping_list.extend([\"шашлык\", \"дрова\"])\n",
        "elif destination == \"в гости\":\n",
        "  shopping_list.append(\"вино\")\n",
        "  shopping_list.append(\"торт\")\n",
        "elif destination == \"никуда\":\n",
        "  shopping_list.append(\"мороженое\")\n",
        "  shopping_list.append(\"попкорн\")\n",
        "else:\n",
        "  print(\"Не знаю такого места\")\n",
        "\n",
        "print(f\"Ваш список покупок: {len(shopping_list)} товара, {shopping_list}\")"
      ],
      "execution_count": null,
      "outputs": [
        {
          "output_type": "stream",
          "text": [
            "Куда пойдем? пикник\n",
            "Ваш список покупок: 4 товара, ['яблоки', 'молоко', 'шашлык', 'дрова']\n"
          ],
          "name": "stdout"
        }
      ]
    },
    {
      "cell_type": "code",
      "source": [],
      "metadata": {
        "id": "tx3ip3DEapNq"
      },
      "execution_count": null,
      "outputs": []
    },
    {
      "cell_type": "markdown",
      "metadata": {
        "id": "cLNICmY4E8KP"
      },
      "source": [
        "## Эпизод 3"
      ]
    },
    {
      "cell_type": "markdown",
      "metadata": {
        "id": "iCC8sbcnGsWh"
      },
      "source": [
        "### Индекс и срезы"
      ]
    },
    {
      "cell_type": "markdown",
      "metadata": {
        "id": "C2_9yvY6GvQQ"
      },
      "source": [
        "### Достаем из списка и кладем в список"
      ]
    },
    {
      "cell_type": "code",
      "metadata": {
        "id": "-QJpLVe7G1ny",
        "colab": {
          "base_uri": "https://localhost:8080/"
        },
        "outputId": "848dcf55-0b65-4a5b-cde6-50349bbb7b52"
      },
      "source": [
        "ladies = ['Маша', 'Таня', 'Оля']\n",
        "tanya = ladies[1]\n",
        "\n",
        "print(tanya)"
      ],
      "execution_count": null,
      "outputs": [
        {
          "output_type": "stream",
          "text": [
            "Таня\n"
          ],
          "name": "stdout"
        }
      ]
    },
    {
      "cell_type": "code",
      "metadata": {
        "id": "Qj8C_HOOG7qq",
        "colab": {
          "base_uri": "https://localhost:8080/"
        },
        "outputId": "c1bc6d49-53e1-401e-85a2-a686e099a170"
      },
      "source": [
        "flock = ['sheep', 'sheep', 'sheep', 'sheep']\n",
        "flock[2] = 'wolf'\n",
        "\n",
        "print(flock)"
      ],
      "execution_count": null,
      "outputs": [
        {
          "output_type": "stream",
          "text": [
            "['sheep', 'sheep', 'wolf', 'sheep']\n"
          ],
          "name": "stdout"
        }
      ]
    },
    {
      "cell_type": "markdown",
      "metadata": {
        "id": "1njRltAxHBNK"
      },
      "source": [
        "### Можно использовать переменную в качестве индекса\n"
      ]
    },
    {
      "cell_type": "code",
      "metadata": {
        "id": "qGXeWPNfHCjq",
        "colab": {
          "base_uri": "https://localhost:8080/"
        },
        "outputId": "501ebf90-4266-4b66-c560-e53070a00335"
      },
      "source": [
        "kings = ['Генрих', 'Людовик', 'Фридрих', 'Ричард']\n",
        "pos = 2\n",
        "\n",
        "print(kings[pos])"
      ],
      "execution_count": null,
      "outputs": [
        {
          "output_type": "stream",
          "text": [
            "Фридрих\n"
          ],
          "name": "stdout"
        }
      ]
    },
    {
      "cell_type": "markdown",
      "metadata": {
        "id": "F5SQwr-sG0zC"
      },
      "source": [
        "### Срезы — «подсписки» внутри списка\n"
      ]
    },
    {
      "cell_type": "code",
      "metadata": {
        "id": "MJBNkjKDJh_q",
        "colab": {
          "base_uri": "https://localhost:8080/"
        },
        "outputId": "48e6cd07-700c-48d4-edf5-ee58ca4ab778"
      },
      "source": [
        "drinks = ['пиво', 'чай', 'кофе', 'водка']\n",
        "\n",
        "print(drinks[1:3])"
      ],
      "execution_count": null,
      "outputs": [
        {
          "output_type": "stream",
          "text": [
            "['чай', 'кофе']\n"
          ],
          "name": "stdout"
        }
      ]
    },
    {
      "cell_type": "code",
      "metadata": {
        "id": "7pw5_AvOJzPS",
        "colab": {
          "base_uri": "https://localhost:8080/"
        },
        "outputId": "8e7e153d-2b1d-4edb-c1d9-c8dce450393c"
      },
      "source": [
        "drinks = ['пиво', 'чай', 'кофе', 'водка']\n",
        "\n",
        "print(drinks[0:1])\n",
        "print(drinks[0])"
      ],
      "execution_count": null,
      "outputs": [
        {
          "output_type": "stream",
          "text": [
            "['пиво']\n",
            "пиво\n"
          ],
          "name": "stdout"
        }
      ]
    },
    {
      "cell_type": "markdown",
      "metadata": {
        "id": "YwnCzvvCJdiL"
      },
      "source": [
        "### Задача эпизода 3\n"
      ]
    },
    {
      "cell_type": "markdown",
      "metadata": {
        "id": "a1JoBKJNKKTe"
      },
      "source": [
        "Вам предоставлен список с англоязычными и русскоязычными терминами.\n",
        "\n",
        "Разделите их по двум разным спискам.\n"
      ]
    },
    {
      "cell_type": "code",
      "metadata": {
        "id": "YDcrmDw2KR8I",
        "colab": {
          "base_uri": "https://localhost:8080/"
        },
        "outputId": "f00f7516-3dff-4c68-a17d-5f4fde1de4ca"
      },
      "source": [
        "terms = [\"MVP\",\"Маржинальность\",\"Гипотеза\",\"Деплой\",\"ROI\",\"IDE\",\"Python\"]\n",
        "\n",
        "terms_en = terms[0:1] + terms[4:]\n",
        "# terms_en = [terms[0]] + terms[4:]\n",
        "terms_ru = terms[1:4]\n",
        "\n",
        "print(terms)\n",
        "print(terms_en)\n",
        "print(terms_ru)"
      ],
      "execution_count": null,
      "outputs": [
        {
          "output_type": "stream",
          "text": [
            "['MVP', 'Маржинальность', 'Гипотеза', 'Деплой', 'ROI', 'IDE', 'Python']\n",
            "['MVP', 'ROI', 'IDE', 'Python']\n",
            "['Маржинальность', 'Гипотеза', 'Деплой']\n"
          ],
          "name": "stdout"
        }
      ]
    },
    {
      "cell_type": "markdown",
      "metadata": {
        "id": "Ss7uBK-ZAVXm"
      },
      "source": [
        "## Селфчек"
      ]
    },
    {
      "cell_type": "code",
      "metadata": {
        "id": "MDyK_xKqM7gT"
      },
      "source": [
        "# Как создать список?\n",
        "\n",
        "things = [1,2,3]"
      ],
      "execution_count": null,
      "outputs": []
    },
    {
      "cell_type": "code",
      "metadata": {
        "id": "Iq5kKcFQNSBP"
      },
      "source": [
        "# Как добавить элемент?\n",
        "\n",
        "things = [1,2,3]\n",
        "\n",
        "things.append(4)\n",
        "\n",
        "print(things)"
      ],
      "execution_count": null,
      "outputs": []
    },
    {
      "cell_type": "code",
      "metadata": {
        "id": "NPnhKFI8Nr6t"
      },
      "source": [
        "# Как получить/изменить элемент?\n",
        "\n",
        "terms = [\"MVP\",\"Маржинальность\",\"Гипотеза\",\"Деплой\",\"ROI\",\"IDE\",\"Python\"]\n",
        "\n",
        "print(terms[3])\n",
        "terms[3] = \"New\""
      ],
      "execution_count": null,
      "outputs": []
    },
    {
      "cell_type": "code",
      "metadata": {
        "id": "uCT8eJAxN7Ju"
      },
      "source": [
        "# Как получить длину списка?\n",
        "\n",
        "terms = [\"MVP\",\"Маржинальность\",\"Гипотеза\",\"Деплой\",\"ROI\",\"IDE\",\"Python\"]\n",
        "\n",
        "len(terms)"
      ],
      "execution_count": null,
      "outputs": []
    },
    {
      "cell_type": "code",
      "metadata": {
        "id": "i58tIBwHODSW",
        "colab": {
          "base_uri": "https://localhost:8080/"
        },
        "outputId": "3b2ab927-6d52-4c68-ad89-7eedb7acbee0"
      },
      "source": [
        "# Как получить подсписок?\n",
        "\n",
        "terms = [\"MVP\",\"Маржинальность\",\"Гипотеза\",\"Деплой\",\"ROI\",\"IDE\",\"Python\"]\n",
        "\n",
        "print(terms[5:])"
      ],
      "execution_count": null,
      "outputs": [
        {
          "output_type": "stream",
          "text": [
            "['IDE', 'Python']\n"
          ],
          "name": "stdout"
        }
      ]
    }
  ]
}