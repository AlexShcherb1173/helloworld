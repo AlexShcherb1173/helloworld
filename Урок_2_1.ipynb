{
  "nbformat": 4,
  "nbformat_minor": 0,
  "metadata": {
    "colab": {
      "provenance": [],
      "collapsed_sections": [
        "PuHVIjXn7fNr",
        "9jT8SKAr_fCS",
        "fRuofVLpONmO",
        "vk72mlMI3W2W",
        "kfJxV2GB3z8x",
        "JVEr802BVwdM",
        "K9u0MF-bfjtu",
        "g6bicIvkWO2I"
      ],
      "include_colab_link": true
    },
    "kernelspec": {
      "name": "python3",
      "display_name": "Python 3"
    },
    "language_info": {
      "name": "python"
    }
  },
  "cells": [
    {
      "cell_type": "markdown",
      "metadata": {
        "id": "view-in-github",
        "colab_type": "text"
      },
      "source": [
        "<a href=\"https://colab.research.google.com/github/AlexShcherb1173/helloworld/blob/master/%D0%A3%D1%80%D0%BE%D0%BA_2_1.ipynb\" target=\"_parent\"><img src=\"https://colab.research.google.com/assets/colab-badge.svg\" alt=\"Open In Colab\"/></a>"
      ]
    },
    {
      "cell_type": "markdown",
      "metadata": {
        "id": "PuHVIjXn7fNr"
      },
      "source": [
        "## Эпизод 1. Арифметика и вывод\n",
        "\n"
      ]
    },
    {
      "cell_type": "markdown",
      "metadata": {
        "id": "38pzjm8M7jma"
      },
      "source": [
        "Первое, что мы изучим, — это функция `print`. Вы еще со школы помните, что функция — это со скобочками. Вот в Python тоже есть функции, и самая первая, без которой совсем не весело, — это `print`. Print означает «печать» и как раз подойдет для печати воображаемого чека."
      ]
    },
    {
      "cell_type": "code",
      "metadata": {
        "id": "rNY7Bd4O7gbs"
      },
      "source": [
        "print(\"Доброе утро\")"
      ],
      "execution_count": null,
      "outputs": []
    },
    {
      "cell_type": "code",
      "metadata": {
        "id": "PhoVePmB8Ejj"
      },
      "source": [
        "print(\"Вы купили кофе за 80 денег\")"
      ],
      "execution_count": null,
      "outputs": []
    },
    {
      "cell_type": "code",
      "metadata": {
        "id": "-D3Fg16F8Ijd"
      },
      "source": [
        "print(\"Вы купили булочку за 40 денег\")"
      ],
      "execution_count": null,
      "outputs": []
    },
    {
      "cell_type": "code",
      "metadata": {
        "id": "vuAFZUgl8K4f"
      },
      "source": [
        "print(\"Вы купили орешки за 50 денег\")"
      ],
      "execution_count": null,
      "outputs": []
    },
    {
      "cell_type": "code",
      "metadata": {
        "id": "-mX6N7YG7i7W"
      },
      "source": [
        "print(\"Спасибо за покупку\")"
      ],
      "execution_count": null,
      "outputs": []
    },
    {
      "cell_type": "markdown",
      "metadata": {
        "id": "HRY3RLU38QLi"
      },
      "source": [
        "Теперь всё вместе:"
      ]
    },
    {
      "cell_type": "code",
      "metadata": {
        "id": "cgXuTRvk8Um6"
      },
      "source": [
        "print(\"Доброе утро\")\n",
        "print(\"Вы купили кофе за 80 денег\")\n",
        "print(\"Вы купили булочку за 40 денег\")\n",
        "print(\"Вы купили орешки за 50 денег\")\n",
        "print(\"Спасибо за покупку\")"
      ],
      "execution_count": null,
      "outputs": []
    },
    {
      "cell_type": "markdown",
      "metadata": {
        "id": "wQeLxTcu8nke"
      },
      "source": [
        "Супер, пора считать сумму покупки. В Python есть все стандартные математические операторы:\n",
        "* сложение (`+`);\n",
        "* вычитание (`-`);\n",
        "* деление (`/`);\n",
        "* умножение (`*`)."
      ]
    },
    {
      "cell_type": "code",
      "metadata": {
        "id": "FMiFue479Qzn",
        "colab": {
          "base_uri": "https://localhost:8080/"
        },
        "outputId": "1dd8c4fe-7da0-45dc-9677-75f0cbf6fcf5"
      },
      "source": [
        "print(\"Один кофе, булочка и орешки обойдутся вам в\")\n",
        "print(80+40+50)"
      ],
      "execution_count": null,
      "outputs": [
        {
          "output_type": "stream",
          "text": [
            "Один кофе, булочка и орешки обойдутся вам в\n",
            "170\n"
          ],
          "name": "stdout"
        }
      ]
    },
    {
      "cell_type": "code",
      "metadata": {
        "id": "bPpS98Pf9kh-",
        "colab": {
          "base_uri": "https://localhost:8080/"
        },
        "outputId": "fb9c1a3c-e273-4ee5-93d5-37c3eb39ab58"
      },
      "source": [
        "print(\"А если бы вы не ели булочку – то в\")\n",
        "print(80+50)"
      ],
      "execution_count": null,
      "outputs": [
        {
          "output_type": "stream",
          "name": "stdout",
          "text": [
            "А если бы вы не ели булочку – то в\n",
            "130\n"
          ]
        }
      ]
    },
    {
      "cell_type": "code",
      "metadata": {
        "id": "saDFKLiY9uO1",
        "colab": {
          "base_uri": "https://localhost:8080/"
        },
        "outputId": "6e56cbad-47a1-4a63-bcb0-f062f6939558"
      },
      "source": [
        "print(\"А если вы живете в Москве, то один кофе обойдется вам в\")\n",
        "print(80*5)"
      ],
      "execution_count": null,
      "outputs": [
        {
          "output_type": "stream",
          "name": "stdout",
          "text": [
            "А если вы живете в Москве, то один кофе обойдется вам в\n",
            "400\n"
          ]
        }
      ]
    },
    {
      "cell_type": "markdown",
      "metadata": {
        "id": "78P8rj44-aS6"
      },
      "source": [
        "Если вы рассматривали чеки внимательно, то заметили, что там есть налоги. Предположим, что наш налог составляет 10% от покупки. Значит, нужно поделить сумму на 10."
      ]
    },
    {
      "cell_type": "code",
      "metadata": {
        "id": "zV7HVqZn-qVL",
        "colab": {
          "base_uri": "https://localhost:8080/"
        },
        "outputId": "be3b939b-63c2-41a2-9244-0fb84b70f8c5"
      },
      "source": [
        "print(\"Сумма вашей покупки\")\n",
        "print(80+40+50)\n",
        "print(\"В том числе налог на недовольное лицо\")\n",
        "print((80+40+50)/10)"
      ],
      "execution_count": null,
      "outputs": [
        {
          "output_type": "stream",
          "text": [
            "Сумма вашей покупки\n",
            "170\n",
            "В том числе налог на недовольное лицо\n",
            "17.0\n"
          ],
          "name": "stdout"
        }
      ]
    },
    {
      "cell_type": "markdown",
      "metadata": {
        "id": "yuoyMP0__btu"
      },
      "source": [
        "### Задача эпизода 1\n",
        "\n"
      ]
    },
    {
      "cell_type": "markdown",
      "metadata": {
        "id": "w8XxjNBQ1Ylp"
      },
      "source": [
        "\n",
        "Написать программу, которая выводит:\n",
        "\n",
        "```\n",
        "\n",
        "Кофе    ------   80\n",
        "\n",
        "Булочка   ----  40\n",
        "\n",
        "Орешки   ----- 50\n",
        "\n",
        "Сумма вашей покупки 170\n",
        "\n",
        "В том числе налог 17.0\n",
        "\n",
        "```\n",
        "\n",
        "\n"
      ]
    },
    {
      "cell_type": "code",
      "metadata": {
        "id": "3lLzb7sMluaO",
        "colab": {
          "base_uri": "https://localhost:8080/"
        },
        "outputId": "fd77e6b8-091b-4e63-a6a5-9e1165c60558"
      },
      "source": [
        "print(\"Кофе ---\", 80)\n",
        "print(\"Булочка ---\", 40)\n",
        "print(\"Орешки ---\", 50)\n",
        "print(\"Сумма вашей покупки\", 80+40+50)\n",
        "print(\"В том числе налог\", (80+40+50)/10)"
      ],
      "execution_count": null,
      "outputs": [
        {
          "output_type": "stream",
          "text": [
            "Кофе --- 80\n",
            "Булочка --- 40\n",
            "Орешки --- 50\n",
            "Сумма вашей покупки 170\n",
            "В том числе налог 17.0\n"
          ],
          "name": "stdout"
        }
      ]
    },
    {
      "cell_type": "markdown",
      "metadata": {
        "id": "9jT8SKAr_fCS"
      },
      "source": [
        "## Эпизод 2. Переменные"
      ]
    },
    {
      "cell_type": "markdown",
      "metadata": {
        "id": "5VUImVauHNRD"
      },
      "source": [
        "Итак, у нас есть рецепт. Давайте разложим каждый ингредиент отдельно, создадим переменные на английском языке маленькими буквами и без пробелов.\n"
      ]
    },
    {
      "cell_type": "code",
      "metadata": {
        "id": "JcMioIciHRT0",
        "colab": {
          "base_uri": "https://localhost:8080/"
        },
        "outputId": "ade470bb-91b9-4f3a-dc74-7bd61270a320"
      },
      "source": [
        "sugar = 3 # ложки\n",
        "eggs = 1 # штуки\n",
        "flour = 3 # столовые ложки\n",
        "apples = 1 # штуки\n",
        "\n",
        "print(sugar, eggs, flour, apples)"
      ],
      "execution_count": null,
      "outputs": [
        {
          "output_type": "stream",
          "text": [
            "3 1 3 1\n"
          ],
          "name": "stdout"
        }
      ]
    },
    {
      "cell_type": "markdown",
      "metadata": {
        "id": "PgWbli1SHdXk"
      },
      "source": [
        "Названия переменных говорят сами за себя. Мы можем изменять их значения в любой момент. Если в переменной было 3, мы можем его заменить его на 1. Например, мы стараемся есть поменьше сахара — вот как это сделать: через `print` мы можем вывести старое и новое значения."
      ]
    },
    {
      "cell_type": "code",
      "metadata": {
        "id": "Pl34Vn3IHf5E",
        "colab": {
          "base_uri": "https://localhost:8080/"
        },
        "outputId": "b489069c-5934-4fa5-95b8-29ec86a0d1fc"
      },
      "source": [
        "sugar = 3 # ложки\n",
        "eggs = 1 # штуки\n",
        "flour = 3 # столовые ложки\n",
        "apples = 1 # штуки\n",
        "\n",
        "print(sugar)\n",
        "\n",
        "sugar = 1\n",
        "\n",
        "print(sugar)"
      ],
      "execution_count": null,
      "outputs": [
        {
          "output_type": "stream",
          "text": [
            "3\n",
            "1\n"
          ],
          "name": "stdout"
        }
      ]
    },
    {
      "cell_type": "markdown",
      "metadata": {
        "id": "_zEfi5OEJLL6"
      },
      "source": [
        "Кстати, теперь, когда у нас стало больше данных, пора узнать, что в `print` можно передавать несколько значений через запятую. Давайте выведем рецепт на 1 порцию. Сократим названия, чтобы не думать о склонениях: «ложек», «ложки» и т. д."
      ]
    },
    {
      "cell_type": "code",
      "metadata": {
        "id": "MZ-UUEjNJa2A",
        "colab": {
          "base_uri": "https://localhost:8080/"
        },
        "outputId": "6b9812d5-a3ae-4ebf-efd0-bc3789b30762"
      },
      "source": [
        "sugar = 3 # ложки\n",
        "eggs = 1 # штуки\n",
        "flour = 3 # столовые ложки\n",
        "apples = 1 # штуки\n",
        "\n",
        "\n",
        "print(\"Сахар\", sugar , \"ложк.\")\n",
        "print(\"Яйца\", eggs , \"шт.\")\n",
        "print(\"Мука\", flour , \"стол. ложк.\")\n",
        "print(\"Яблоки\", apples, \"шт.\")\n"
      ],
      "execution_count": null,
      "outputs": [
        {
          "output_type": "stream",
          "text": [
            "Сахар 3 ложк.\n",
            "Яйца 1 шт.\n",
            "Мука 3 стол. ложк.\n",
            "Яблоки 1 шт.\n"
          ],
          "name": "stdout"
        }
      ]
    },
    {
      "cell_type": "markdown",
      "metadata": {
        "id": "CME5GV2mIXmd"
      },
      "source": [
        "Хорошо, теперь добавим, сколько человек придет к нам на ужин."
      ]
    },
    {
      "cell_type": "code",
      "metadata": {
        "id": "hJjJt_pyIYbX"
      },
      "source": [
        "guests = 4"
      ],
      "execution_count": null,
      "outputs": []
    },
    {
      "cell_type": "markdown",
      "metadata": {
        "id": "oUeFj5XXIsqZ"
      },
      "source": [
        "### Задача эпизода 2\n",
        "\n",
        "\n"
      ]
    },
    {
      "cell_type": "markdown",
      "metadata": {
        "id": "2uHpyNIW1lWx"
      },
      "source": [
        "\n",
        "Написать программу, которая умножает ингредиенты для нужного количества порций:\n",
        "\n",
        "**1 порция**\n",
        "\n",
        "Сахар 3 ложк.\n",
        "\n",
        "Яйца 1 шт.\n",
        "\n",
        "Мука 3 стол. ложк.\n",
        "\n",
        "Яблоки 1 шт.\n",
        "\n",
        "\n",
        "\n",
        "**5 порций**\n",
        "\n",
        "Сахар 15 ложк.\n",
        "\n",
        "Яйца 5 шт.\n",
        "\n",
        "Мука 15 стол. ложк.\n",
        "\n",
        "Яблоки 5 шт."
      ]
    },
    {
      "cell_type": "code",
      "metadata": {
        "id": "3KksCrRDI5Yh",
        "colab": {
          "base_uri": "https://localhost:8080/"
        },
        "outputId": "fc4efd12-5ee0-4660-d53e-71711a3abada"
      },
      "source": [
        "sugar = 3 # ложки\n",
        "eggs = 1 # штуки\n",
        "flour = 3 # столовые ложки\n",
        "apples = 1 # штуки\n",
        "\n",
        "guests = 5\n",
        "\n",
        "print(\"Сахар\", sugar*guests, \"ложк.\")\n",
        "print(\"Яйца\", eggs*guests, \"шт.\")\n",
        "print(\"Мука\", flour*guests, \"стол. ложк.\")\n",
        "print(\"Яблоки\", apples*guests, \"шт.\")"
      ],
      "execution_count": null,
      "outputs": [
        {
          "output_type": "stream",
          "text": [
            "Сахар 15 ложк.\n",
            "Яйца 5 шт.\n",
            "Мука 15 стол. ложк.\n",
            "Яблоки 5 шт.\n"
          ],
          "name": "stdout"
        }
      ]
    },
    {
      "cell_type": "markdown",
      "metadata": {
        "id": "fRuofVLpONmO"
      },
      "source": [
        "## Эпизод 3. Ввод и преобразование данных"
      ]
    },
    {
      "cell_type": "markdown",
      "metadata": {
        "id": "fc9M20iq160h"
      },
      "source": [
        "### Ввод данных"
      ]
    },
    {
      "cell_type": "markdown",
      "metadata": {
        "id": "gbSpPkVQORRD"
      },
      "source": [
        "Функция `input()` отлично дополняет `print()` и записывает введенное значение в переменную. Легко и просто:"
      ]
    },
    {
      "cell_type": "code",
      "metadata": {
        "id": "d4EOqIvjOiXi",
        "colab": {
          "base_uri": "https://localhost:8080/"
        },
        "outputId": "88b1703e-88f2-404e-c621-937a3155bbbe"
      },
      "source": [
        "name = input()\n",
        "print(\"Вы ввели\", name)\n"
      ],
      "execution_count": null,
      "outputs": [
        {
          "output_type": "stream",
          "text": [
            "Artem\n",
            "Вы ввели Artem\n"
          ],
          "name": "stdout"
        }
      ]
    },
    {
      "cell_type": "markdown",
      "metadata": {
        "id": "Jk8gqztVO6H4"
      },
      "source": [
        "Чтобы пригласить пользователя и рассказать, что ему нужно ввести, можно записать строку в `input()`."
      ]
    },
    {
      "cell_type": "code",
      "metadata": {
        "id": "hyijGDO_PGhE",
        "colab": {
          "base_uri": "https://localhost:8080/"
        },
        "outputId": "078798a4-5b93-4c9e-9164-9d7acb807cae"
      },
      "source": [
        "phone_model = input(\"Какой смартфон вы хотите купить? \")\n",
        "print(\"Вы хотите купить\", phone_model)"
      ],
      "execution_count": null,
      "outputs": [
        {
          "output_type": "stream",
          "text": [
            "Какой смартфон вы хотите купить? iPhone\n",
            "Вы хотите купить iPhone\n"
          ],
          "name": "stdout"
        }
      ]
    },
    {
      "cell_type": "markdown",
      "metadata": {
        "id": "8iFl3baNPVhm"
      },
      "source": [
        "Дальше всё просто: получаем число, засовываем в переменную и считаем."
      ]
    },
    {
      "cell_type": "code",
      "metadata": {
        "id": "l6aWdhwfPffn",
        "colab": {
          "base_uri": "https://localhost:8080/"
        },
        "outputId": "ddc21913-bb48-4e6b-99f3-56bb6e2ce8ad"
      },
      "source": [
        "price = input(\"Сколько стоит эта модель? \")\n",
        "print(\"Ваша покупка стоит\", price)"
      ],
      "execution_count": null,
      "outputs": [
        {
          "output_type": "stream",
          "text": [
            "Сколько стоит эта модель? 10000\n",
            "Ваша покупка стоит 10000\n"
          ],
          "name": "stdout"
        }
      ]
    },
    {
      "cell_type": "markdown",
      "metadata": {
        "id": "ja1o91TOPrzi"
      },
      "source": [
        "Теперь, например, ставка по кредиту – 100 процентов годовых."
      ]
    },
    {
      "cell_type": "code",
      "metadata": {
        "id": "77G_dx2LPyW_",
        "colab": {
          "base_uri": "https://localhost:8080/"
        },
        "outputId": "c6a49034-7496-401a-ffee-33102528dfa9"
      },
      "source": [
        "price = input(\"Сколько стоит эта модель? \")\n",
        "\n",
        "total_price = price*2\n",
        "\n",
        "print(\"Полная стоимость с кредитом:\", total_price)"
      ],
      "execution_count": null,
      "outputs": [
        {
          "output_type": "stream",
          "text": [
            "Сколько стоит эта модель? 10000\n",
            "Полная стоимость с кредитом: 1000010000\n"
          ],
          "name": "stdout"
        }
      ]
    },
    {
      "cell_type": "markdown",
      "metadata": {
        "id": "P0s7n9fBQC0m"
      },
      "source": [
        "А первый взнос — 20%."
      ]
    },
    {
      "cell_type": "code",
      "metadata": {
        "id": "Lj-BHcTVP1Hd",
        "colab": {
          "base_uri": "https://localhost:8080/",
          "height": 248
        },
        "outputId": "13743b15-b138-4316-bb41-2b2c2e087c98"
      },
      "source": [
        "price = input(\"Сколько стоит эта модель?\")\n",
        "\n",
        "first_payment = price*0.2\n",
        "\n",
        "print(\"Первый взнос\", first_payment)"
      ],
      "execution_count": null,
      "outputs": [
        {
          "output_type": "stream",
          "text": [
            "Сколько стоит эта модель?100\n"
          ],
          "name": "stdout"
        },
        {
          "output_type": "error",
          "ename": "TypeError",
          "evalue": "ignored",
          "traceback": [
            "\u001b[0;31m---------------------------------------------------------------------------\u001b[0m",
            "\u001b[0;31mTypeError\u001b[0m                                 Traceback (most recent call last)",
            "\u001b[0;32m<ipython-input-1-f9ddee7e038e>\u001b[0m in \u001b[0;36m<module>\u001b[0;34m()\u001b[0m\n\u001b[1;32m      1\u001b[0m \u001b[0mprice\u001b[0m \u001b[0;34m=\u001b[0m \u001b[0minput\u001b[0m\u001b[0;34m(\u001b[0m\u001b[0;34m\"Сколько стоит эта модель?\"\u001b[0m\u001b[0;34m)\u001b[0m\u001b[0;34m\u001b[0m\u001b[0;34m\u001b[0m\u001b[0m\n\u001b[1;32m      2\u001b[0m \u001b[0;34m\u001b[0m\u001b[0m\n\u001b[0;32m----> 3\u001b[0;31m \u001b[0mfirst_payment\u001b[0m \u001b[0;34m=\u001b[0m \u001b[0mprice\u001b[0m\u001b[0;34m*\u001b[0m\u001b[0;36m0.2\u001b[0m\u001b[0;34m\u001b[0m\u001b[0;34m\u001b[0m\u001b[0m\n\u001b[0m\u001b[1;32m      4\u001b[0m \u001b[0;34m\u001b[0m\u001b[0m\n\u001b[1;32m      5\u001b[0m \u001b[0mprint\u001b[0m\u001b[0;34m(\u001b[0m\u001b[0;34m\"Первый взнос\"\u001b[0m\u001b[0;34m,\u001b[0m \u001b[0mfirst_payment\u001b[0m\u001b[0;34m)\u001b[0m\u001b[0;34m\u001b[0m\u001b[0;34m\u001b[0m\u001b[0m\n",
            "\u001b[0;31mTypeError\u001b[0m: can't multiply sequence by non-int of type 'float'"
          ]
        }
      ]
    },
    {
      "cell_type": "markdown",
      "metadata": {
        "id": "kQGDT6sCQ0Wx"
      },
      "source": [
        "Пора вернуться в презу и разобраться, что к чему."
      ]
    },
    {
      "cell_type": "code",
      "metadata": {
        "id": "gDJ8SAEWepyh",
        "colab": {
          "base_uri": "https://localhost:8080/"
        },
        "outputId": "014fa268-9cf0-4072-fa3f-7b00d9bef920"
      },
      "source": [
        "price = input(\"Сколько стоит эта модель?\")\n",
        "\n",
        "price_type = type(price)\n",
        "\n",
        "print(price_type)"
      ],
      "execution_count": null,
      "outputs": [
        {
          "output_type": "stream",
          "text": [
            "Сколько стоит эта модель?10000\n",
            "<class 'str'>\n"
          ],
          "name": "stdout"
        }
      ]
    },
    {
      "cell_type": "markdown",
      "metadata": {
        "id": "uslNIm62RRkj"
      },
      "source": [
        "### Преобразования"
      ]
    },
    {
      "cell_type": "markdown",
      "metadata": {
        "id": "PbS1dhC2RTwG"
      },
      "source": [
        "Число в строку:"
      ]
    },
    {
      "cell_type": "code",
      "metadata": {
        "id": "l6VI3tOARVMc",
        "colab": {
          "base_uri": "https://localhost:8080/"
        },
        "outputId": "b46f64df-ba3c-4820-b4c6-f37f6022e4e2"
      },
      "source": [
        "price = 34.5\n",
        "my_str = \"Цена мороженого \" + str(price)\n",
        "print(my_str)"
      ],
      "execution_count": null,
      "outputs": [
        {
          "output_type": "stream",
          "name": "stdout",
          "text": [
            "Цена мороженого 34.5\n"
          ]
        }
      ]
    },
    {
      "cell_type": "markdown",
      "metadata": {
        "id": "Ukp1kimaRit7"
      },
      "source": [
        "Строку в число:\n"
      ]
    },
    {
      "cell_type": "code",
      "metadata": {
        "id": "WoiCPW9qRlq7",
        "colab": {
          "base_uri": "https://localhost:8080/"
        },
        "outputId": "8d7f4ffd-446c-408a-af50-78bc9fa9f089"
      },
      "source": [
        "a = int(\"68\")*3\n",
        "b = int(\"33\") + 29\n",
        "c = int(\"485\") + 256 + int(\"3\")\n",
        "\n",
        "print(c)"
      ],
      "execution_count": null,
      "outputs": [
        {
          "output_type": "stream",
          "text": [
            "744\n"
          ],
          "name": "stdout"
        }
      ]
    },
    {
      "cell_type": "markdown",
      "metadata": {
        "id": "T6zG7KZeRqXV"
      },
      "source": [
        "Ошибки в преобразованиях:\n"
      ]
    },
    {
      "cell_type": "code",
      "metadata": {
        "id": "3UF8ShYDRq2L"
      },
      "source": [
        "a = int(\"sharp\")\n",
        "b = int(\"@#\")"
      ],
      "execution_count": null,
      "outputs": []
    },
    {
      "cell_type": "markdown",
      "metadata": {
        "id": "ma_P0CplRxWE"
      },
      "source": [
        "**Правильный ввод чисел**\n",
        "\n",
        "Чтобы получить число, нам нужно сперва получить его с помощью функции `input`, затем преобразовать в число с помощью функции `int` или `float`. Также мы можем сразу в функцию `int` или `float` передать `input`, и тогда то, что введет пользователь, будет преобразовано в число — конечно, если это возможно. К примеру, мы можем запросить у пользователя его возраст, цену товара, номер счета в банке, остаток на балансе и т. д.\n"
      ]
    },
    {
      "cell_type": "code",
      "metadata": {
        "id": "L73eq0IqRw1S"
      },
      "source": [
        "price_str = input(\"Стоимость смартфона\")\n",
        "price_int = int(price_str)\n",
        "\n",
        "year = int(input(\"Год выпуска\"))\n",
        "\n",
        "money = float(input(\"Денег в наличии\"))"
      ],
      "execution_count": null,
      "outputs": []
    },
    {
      "cell_type": "markdown",
      "metadata": {
        "id": "y7wCZXtcTIUK"
      },
      "source": [
        "Окей, так что там с рассрочкой?"
      ]
    },
    {
      "cell_type": "code",
      "metadata": {
        "id": "J4EmFS6mTOTy",
        "colab": {
          "base_uri": "https://localhost:8080/"
        },
        "outputId": "24d4f968-d5a4-40b0-d734-422293293348"
      },
      "source": [
        "price = input(\"Сколько стоит эта модель?\")\n",
        "price_int = int(price)\n",
        "\n",
        "total_price = price_int*2\n",
        "\n",
        "print(\"Полная стоимость с кредитом\", total_price)"
      ],
      "execution_count": null,
      "outputs": [
        {
          "output_type": "stream",
          "text": [
            "Сколько стоит эта модель?10000\n",
            "Полная стоимость с кредитом 20000\n"
          ],
          "name": "stdout"
        }
      ]
    },
    {
      "cell_type": "markdown",
      "metadata": {
        "id": "2HKgzmbBTkJe"
      },
      "source": [
        "И с первым взносом."
      ]
    },
    {
      "cell_type": "code",
      "metadata": {
        "id": "zoyS8XTWTm4n",
        "colab": {
          "base_uri": "https://localhost:8080/"
        },
        "outputId": "e994731d-56a8-4e88-b966-7883ddd8846c"
      },
      "source": [
        "price = input(\"Сколько стоит эта модель?\")\n",
        "price_int = int(price)\n",
        "\n",
        "first_payment = price_int*0.2\n",
        "\n",
        "print(\"Первый взнос\", first_payment)"
      ],
      "execution_count": null,
      "outputs": [
        {
          "output_type": "stream",
          "text": [
            "Сколько стоит эта модель?10000\n",
            "Первый взнос 2000.0\n"
          ],
          "name": "stdout"
        }
      ]
    },
    {
      "cell_type": "markdown",
      "metadata": {
        "id": "Cy-ky0MlyQsn"
      },
      "source": [
        "### Задача эпизода 3\n",
        "\n",
        "Написать программу, которая получает у пользователя сумму рассрочки и выводит:\n",
        "```\n",
        "В рассрочку:\n",
        "\n",
        "6 мес --- 2000\n",
        "\n",
        "12 мес --- 1000\n",
        "\n",
        "24 мес --- 500\n",
        "\n",
        "```\n",
        "\n",
        "\n",
        "\n"
      ]
    },
    {
      "cell_type": "code",
      "metadata": {
        "id": "l8fAdDzf1Mk7",
        "colab": {
          "base_uri": "https://localhost:8080/"
        },
        "outputId": "c2e1854e-dab3-465c-a7f3-8a02e3ef9999"
      },
      "source": [
        "price = input(\"Сколько стоит эта модель?\")\n",
        "price_int = int(price)\n",
        "\n",
        "print(\"6 мес ---\", price_int / 6)\n",
        "print(\"12 мес ---\", price_int / 12)\n",
        "print(\"24 мес ---\", price_int / 24)"
      ],
      "execution_count": null,
      "outputs": [
        {
          "output_type": "stream",
          "text": [
            "Сколько стоит эта модель?10000\n",
            "6 мес --- 1666.6666666666667\n",
            "12 мес --- 833.3333333333334\n",
            "24 мес --- 416.6666666666667\n"
          ],
          "name": "stdout"
        }
      ]
    },
    {
      "cell_type": "markdown",
      "metadata": {
        "id": "vk72mlMI3W2W"
      },
      "source": [
        "## Эпизод 4 — алгоритм решения и f-строки"
      ]
    },
    {
      "cell_type": "markdown",
      "metadata": {
        "id": "KQ7N7GlBVeob"
      },
      "source": [
        "### f-строки"
      ]
    },
    {
      "cell_type": "markdown",
      "metadata": {
        "id": "krMK-5zNViq3"
      },
      "source": [
        "Выведем текст и переменные в консоль с помощью `print`:\n",
        "\n",
        "`У меня есть кошка по кличке Мурка ей 2 года.`\n",
        "\n",
        "\n",
        "Чтобы вывести такую запись на экран, в функцию `print` через запятую нужно передать текст и переменные.\n",
        "\n",
        "Такая запись — неудобная.\n"
      ]
    },
    {
      "cell_type": "code",
      "metadata": {
        "id": "XXodSHsDVqh7",
        "colab": {
          "base_uri": "https://localhost:8080/"
        },
        "outputId": "940dabd0-6837-4b88-892a-7fb944367f61"
      },
      "source": [
        "cat = \"Мурка\"\n",
        "age = 2\n",
        "print(\"У меня есть кошка по кличке \", cat, \" ей \", age, \" года \")"
      ],
      "execution_count": null,
      "outputs": [
        {
          "output_type": "stream",
          "name": "stdout",
          "text": [
            "У меня есть кошка по кличке  Мурка  ей  2  года \n"
          ]
        }
      ]
    },
    {
      "cell_type": "markdown",
      "metadata": {
        "id": "WbrTXAo4VmW_"
      },
      "source": [
        "Есть более удобный способ для формирования строк и вставки переменных в строку. Для этого можно использовать f-строки.\n",
        "\n",
        "Перед кавычками пишем f, далее в `{ }` — имя переменной.\n",
        "\n",
        "И у нас получилась такая запись:\n",
        "\n",
        "`У меня есть кошка по кличке {cat}, ей {age} года. `\n",
        "\n",
        "Вот это уже легче читать.\n",
        "\n"
      ]
    },
    {
      "cell_type": "code",
      "metadata": {
        "id": "Z4sSV6PNVtVJ",
        "colab": {
          "base_uri": "https://localhost:8080/"
        },
        "outputId": "3997e840-23f3-4e6f-bc9b-3beb51144003"
      },
      "source": [
        "#Перед кавычками пишем f, далее в { } скобках — имя переменной\n",
        "\n",
        "cat = \"Мурка\"\n",
        "age = 2\n",
        "print(f\"У меня есть кошка по кличке {cat}, ей {age} года\")"
      ],
      "execution_count": null,
      "outputs": [
        {
          "output_type": "stream",
          "name": "stdout",
          "text": [
            "У меня есть кошка по кличке Мурка, ей 2 года\n"
          ]
        }
      ]
    },
    {
      "cell_type": "markdown",
      "metadata": {
        "id": "dwVOh6MDybvw"
      },
      "source": [
        "### Задача эпизода 4\n",
        "\n",
        "Написать программу, которая на основе пользовательского ввода\n",
        "\n",
        "`learn_by_weekdays = `  # сколько часов я учусь по будням\n",
        "\n",
        "`learn_by_weekends =`   # сколько часов я учусь по выходным\n",
        "\n",
        "`courses_to_complete =` # сколько курсов нужно закончить\n",
        "\n",
        "\n",
        "выводит, cколько недель надо учиться в режиме, который указал пользователь, чтобы пройти столько-то курсов, если каждый курс идет 150 часов:\n",
        "\n",
        "\n",
        "`Если я буду заниматься по ____ часов по будням и ____ по выходным, то за ____ недель смогу пройти ____ курсов`\n",
        "\n"
      ]
    },
    {
      "cell_type": "code",
      "metadata": {
        "id": "0aZXS6oJ3c2G",
        "colab": {
          "base_uri": "https://localhost:8080/"
        },
        "outputId": "2ccd3e74-f548-4b62-ac9b-5fecc1f360bf"
      },
      "source": [
        "learn_by_weekdays = int(input(\"Часов в будни: \"))\n",
        "learn_by_weekends = int(input(\"Часов в выходные: \"))\n",
        "courses_to_complete = int(input(\"Количество курсов: \"))\n",
        "\n",
        "# часов в неделю = learn_by_weekdays * 5 + learn_by_weekends * 2\n",
        "# часов на курсы = courses_to_complete * 150\n",
        "# часов на курсы / часов в неделю\n",
        "\n",
        "learn_by_week = learn_by_weekdays * 5 + learn_by_weekends * 2\n",
        "hours_for_course = courses_to_complete * 150\n",
        "weeks_total = hours_for_course / learn_by_week\n",
        "\n",
        "print(f\"Если я буду заниматься по {learn_by_weekdays} часов по будням и {learn_by_weekends} по выходным, то за {weeks_total} недель смогу пройти {courses_to_complete} курсов\")"
      ],
      "execution_count": null,
      "outputs": [
        {
          "output_type": "stream",
          "text": [
            "Часов в будни: 1\n",
            "Часов в выходные: 1\n",
            "Количество курсов: 1\n",
            "Если я буду заниматься по 1 часов по будням и 1 по выходным, то за 21.428571428571427 недель смогу пройти 1 курсов\n"
          ],
          "name": "stdout"
        }
      ]
    },
    {
      "cell_type": "markdown",
      "metadata": {
        "id": "kfJxV2GB3z8x"
      },
      "source": [
        "## Селфчек"
      ]
    },
    {
      "cell_type": "code",
      "metadata": {
        "id": "w2G8xS7K38d8",
        "colab": {
          "base_uri": "https://localhost:8080/"
        },
        "outputId": "0bcb6641-25fd-406f-a7a0-9267218d7e2d"
      },
      "source": [
        "# Как выводить сообщения на экран?\n",
        "print(\"Test\")"
      ],
      "execution_count": null,
      "outputs": [
        {
          "output_type": "stream",
          "text": [
            "Test\n"
          ],
          "name": "stdout"
        }
      ]
    },
    {
      "cell_type": "code",
      "metadata": {
        "id": "yIKD5BrV39p7"
      },
      "source": [
        "# Как объявлять переменные?\n",
        "name = \"Artem\""
      ],
      "execution_count": null,
      "outputs": []
    },
    {
      "cell_type": "code",
      "metadata": {
        "id": "6FtkjtQV39t0"
      },
      "source": [
        "# Какие 3 типа данных есть? Для чего?\n",
        "int float str"
      ],
      "execution_count": null,
      "outputs": []
    },
    {
      "cell_type": "code",
      "metadata": {
        "id": "sk1j_eCs39w5"
      },
      "source": [
        "# Какие есть арифм. операторы?\n",
        "+ / - *"
      ],
      "execution_count": null,
      "outputs": []
    },
    {
      "cell_type": "code",
      "metadata": {
        "id": "IZLo1lX939zh"
      },
      "source": [
        "# Как получать данные у пользователя?\n",
        "name = input(\"Введите ваше имя: \")"
      ],
      "execution_count": null,
      "outputs": []
    },
    {
      "cell_type": "code",
      "metadata": {
        "id": "5-Oxx9SQ3-s8"
      },
      "source": [
        "# Как определить тип переменной?\n",
        "name = \"Artem\"\n",
        "\n",
        "type(name)"
      ],
      "execution_count": null,
      "outputs": []
    },
    {
      "cell_type": "code",
      "metadata": {
        "id": "sQ1vcKgU34Aw"
      },
      "source": [
        "# Как менять тип переменной?\n",
        "name = 50\n",
        "\n",
        "str(name)\n",
        "float(name)"
      ],
      "execution_count": null,
      "outputs": []
    },
    {
      "cell_type": "code",
      "metadata": {
        "id": "ZMVUHZA3391b",
        "colab": {
          "base_uri": "https://localhost:8080/"
        },
        "outputId": "040b5c56-bc27-465a-da79-43a37835998f"
      },
      "source": [
        "# Как использовать f-строки?\n",
        "name = \"Artem\"\n",
        "print(f\"Name: {name}\")"
      ],
      "execution_count": null,
      "outputs": [
        {
          "output_type": "stream",
          "text": [
            "Name: Artem\n"
          ],
          "name": "stdout"
        }
      ]
    },
    {
      "cell_type": "markdown",
      "metadata": {
        "id": "qrJysZjEg2IU"
      },
      "source": [
        "\n",
        "\n",
        "---\n",
        "\n"
      ]
    },
    {
      "cell_type": "markdown",
      "metadata": {
        "id": "G8PpuUqsg5tY"
      },
      "source": [
        "\n",
        "\n",
        "---\n",
        "\n"
      ]
    }
  ]
}