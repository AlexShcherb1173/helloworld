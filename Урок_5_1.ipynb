{
  "nbformat": 4,
  "nbformat_minor": 0,
  "metadata": {
    "colab": {
      "provenance": [],
      "include_colab_link": true
    },
    "kernelspec": {
      "name": "python3",
      "display_name": "Python 3"
    },
    "language_info": {
      "name": "python"
    }
  },
  "cells": [
    {
      "cell_type": "markdown",
      "metadata": {
        "id": "view-in-github",
        "colab_type": "text"
      },
      "source": [
        "<a href=\"https://colab.research.google.com/github/AlexShcherb1173/helloworld/blob/master/%D0%A3%D1%80%D0%BE%D0%BA_5_1.ipynb\" target=\"_parent\"><img src=\"https://colab.research.google.com/assets/colab-badge.svg\" alt=\"Open In Colab\"/></a>"
      ]
    },
    {
      "cell_type": "markdown",
      "source": [
        "## Эпизод 1"
      ],
      "metadata": {
        "id": "s5a2ELJFwtTI"
      }
    },
    {
      "cell_type": "markdown",
      "source": [
        "Мы уже знакомы со строками, это простой тип данных. И всё же про них можно много рассказывать. Строки похожи на списки, с ними можно использовать слайсы, индексы и циклы, а еще искать и заменять вхождения, разделять на подстроки. Посмотрим на всё это."
      ],
      "metadata": {
        "id": "s5dnF93AwwZQ"
      }
    },
    {
      "cell_type": "markdown",
      "source": [
        "### Буквы можно получать индексами"
      ],
      "metadata": {
        "id": "XzZFB4RZwyzj"
      }
    },
    {
      "cell_type": "code",
      "execution_count": null,
      "metadata": {
        "colab": {
          "base_uri": "https://localhost:8080/"
        },
        "id": "4N8cJi04v4ux",
        "outputId": "5e2cc964-14d0-4ae3-e4d4-7c6025e6e66e"
      },
      "outputs": [
        {
          "output_type": "stream",
          "name": "stdout",
          "text": [
            "з\n",
            "л\n",
            "о\n"
          ]
        }
      ],
      "source": [
        "s = \"Полиморфизм\"\n",
        "\n",
        "print(s[9])\n",
        "print(s[2])\n",
        "print(s[1])"
      ]
    },
    {
      "cell_type": "code",
      "source": [
        "s = \"Алиса, привет\"\n",
        "# s = \"Улисса, привет\"\n",
        "\n",
        "if s[0] == \"А\":\n",
        "  print(\"Первая буква – а\")"
      ],
      "metadata": {
        "colab": {
          "base_uri": "https://localhost:8080/"
        },
        "id": "0XMs2dJnw6FD",
        "outputId": "614c8e51-c4d5-45fc-d0d0-53e33497733a"
      },
      "execution_count": null,
      "outputs": [
        {
          "output_type": "stream",
          "name": "stdout",
          "text": [
            "Первая буква – а\n"
          ]
        }
      ]
    },
    {
      "cell_type": "markdown",
      "source": [
        "### Можно получать срезы из строк"
      ],
      "metadata": {
        "id": "p2XCLuoaw-al"
      }
    },
    {
      "cell_type": "markdown",
      "source": [
        "Срез `s[x:y]` позволяет получить подстроку с символа `x` до символа `y`. Можно не указывать любое из значений, чтобы двигаться с начала или до конца строки. Отрицательные значения используются для отсчета с конца (−1 — последний символ, −2 — предпоследний и т. п.)."
      ],
      "metadata": {
        "id": "vV4uvg_exBJ-"
      }
    },
    {
      "cell_type": "code",
      "source": [
        "s = \"Привет Алиса\"\n",
        "print(s[0:5])"
      ],
      "metadata": {
        "colab": {
          "base_uri": "https://localhost:8080/"
        },
        "id": "YsuZCbiQw9rx",
        "outputId": "d42983eb-a6dc-4a2b-d4dc-ee78fb71b8f7"
      },
      "execution_count": null,
      "outputs": [
        {
          "output_type": "stream",
          "name": "stdout",
          "text": [
            "Приве\n"
          ]
        }
      ]
    },
    {
      "cell_type": "code",
      "source": [
        "s = \"Полиморфизм – зло!\"\n",
        "print(s[-6:])"
      ],
      "metadata": {
        "colab": {
          "base_uri": "https://localhost:8080/"
        },
        "id": "rgfv2fjkxFcO",
        "outputId": "b273de4c-e9f5-4641-b186-4f7bf1745af3"
      },
      "execution_count": null,
      "outputs": [
        {
          "output_type": "stream",
          "name": "stdout",
          "text": [
            "– зло!\n"
          ]
        }
      ]
    },
    {
      "cell_type": "code",
      "source": [
        "s = \"Полиморфизм – зло!\"\n",
        "print(s[1:2])"
      ],
      "metadata": {
        "colab": {
          "base_uri": "https://localhost:8080/"
        },
        "id": "7UjxVu6ExIuG",
        "outputId": "0364233a-88ff-434c-d7bd-0a79751efcaf"
      },
      "execution_count": null,
      "outputs": [
        {
          "output_type": "stream",
          "name": "stdout",
          "text": [
            "о\n"
          ]
        }
      ]
    },
    {
      "cell_type": "markdown",
      "source": [
        "### Можно посчитать символы в строке через len"
      ],
      "metadata": {
        "id": "JnAT4TIuxMQM"
      }
    },
    {
      "cell_type": "markdown",
      "source": [
        "Помните, что строка состоит из последовательности символов. Узнать количество символов (длину строки) можно при помощи функции `len`. Посчитаем длину никнейма пользователя."
      ],
      "metadata": {
        "id": "y4gsZpf1xRNG"
      }
    },
    {
      "cell_type": "code",
      "source": [
        "print(len(\"Мама, я графоман, спасити!\"))"
      ],
      "metadata": {
        "colab": {
          "base_uri": "https://localhost:8080/"
        },
        "id": "NBx2pKoqxLGG",
        "outputId": "505c317f-952f-441c-c63b-414cc36226f2"
      },
      "execution_count": null,
      "outputs": [
        {
          "output_type": "stream",
          "name": "stdout",
          "text": [
            "26\n"
          ]
        }
      ]
    },
    {
      "cell_type": "code",
      "source": [
        "text = \"Мама, я графоман\"\n",
        "\n",
        "if len(text) == 16:\n",
        "  print(\"В тексте 16 букв\")\n",
        "\n",
        "if len(text) > 9:\n",
        "  print(\"Довольно много букв!\")"
      ],
      "metadata": {
        "colab": {
          "base_uri": "https://localhost:8080/"
        },
        "id": "WMaZCvB8xVW7",
        "outputId": "a8ad46b5-4968-4586-cf12-e35ba8bee477"
      },
      "execution_count": null,
      "outputs": [
        {
          "output_type": "stream",
          "name": "stdout",
          "text": [
            "В тексте 16 букв\n",
            "Довольно много букв!\n"
          ]
        }
      ]
    },
    {
      "cell_type": "markdown",
      "source": [
        "### Строки можно перебрать циклом for"
      ],
      "metadata": {
        "id": "j_oD2wawxYEP"
      }
    },
    {
      "cell_type": "markdown",
      "source": [
        "Строка — это итерируемый объект, она состоит из последовательности символов. Строку можно перебрать циклом `for`. Строка перебираться будет посимвольно."
      ],
      "metadata": {
        "id": "4UdfZdIjxYY3"
      }
    },
    {
      "cell_type": "code",
      "source": [
        "my_str = \"Алиса идет гулять\"  # [\"А\", \"л\" ... ]\n",
        "\n",
        "for i in my_str:\n",
        "  print(i)"
      ],
      "metadata": {
        "colab": {
          "base_uri": "https://localhost:8080/"
        },
        "id": "49OW7mthxiyG",
        "outputId": "21815397-fdbf-4138-a960-c641bc5d80a1"
      },
      "execution_count": null,
      "outputs": [
        {
          "output_type": "stream",
          "name": "stdout",
          "text": [
            "А\n",
            "л\n",
            "и\n",
            "с\n",
            "а\n",
            " \n",
            "и\n",
            "д\n",
            "е\n",
            "т\n",
            " \n",
            "г\n",
            "у\n",
            "л\n",
            "я\n",
            "т\n",
            "ь\n"
          ]
        }
      ]
    },
    {
      "cell_type": "markdown",
      "source": [
        "### Задачка эпизода 1"
      ],
      "metadata": {
        "id": "-SZIjvlnxnh7"
      }
    },
    {
      "cell_type": "markdown",
      "source": [
        "Дана строка. Посчитать количество символов и количество слов. Количество слов — это количество пробелов + 1."
      ],
      "metadata": {
        "id": "MdmqPdPwxrGm"
      }
    },
    {
      "cell_type": "code",
      "source": [
        "string = \"Мама, я графоман, спасити!\"\n",
        "\n",
        "letters_count = 0\n",
        "words_count = 0\n",
        "spaces_count = 0\n",
        "\n",
        "for letter in string:\n",
        "  if letter not in [\" \", \",\", \"!\"]:\n",
        "    letters_count += 1\n",
        "  elif letter == \" \":\n",
        "    spaces_count += 1\n",
        "\n",
        "if spaces_count == 0:\n",
        "  if letters_count > 0:\n",
        "    words_count = 1\n",
        "else:\n",
        "  words_count = spaces_count + 1\n",
        "\n",
        "print(f\"Букв: {letters_count}\")\n",
        "print(f\"Количество слов: {words_count}\")"
      ],
      "metadata": {
        "colab": {
          "base_uri": "https://localhost:8080/"
        },
        "id": "SX2f0st7xujx",
        "outputId": "ba0539fc-ead8-4819-80ec-d5cdb6a4bfbc"
      },
      "execution_count": null,
      "outputs": [
        {
          "output_type": "stream",
          "name": "stdout",
          "text": [
            "Букв: 20\n",
            "Количество слов: 4\n"
          ]
        }
      ]
    }
  ]
}