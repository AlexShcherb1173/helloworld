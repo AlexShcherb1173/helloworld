{
  "nbformat": 4,
  "nbformat_minor": 0,
  "metadata": {
    "colab": {
      "provenance": [],
      "include_colab_link": true
    },
    "kernelspec": {
      "name": "python3",
      "display_name": "Python 3"
    },
    "language_info": {
      "name": "python"
    }
  },
  "cells": [
    {
      "cell_type": "markdown",
      "metadata": {
        "id": "view-in-github",
        "colab_type": "text"
      },
      "source": [
        "<a href=\"https://colab.research.google.com/github/AlexShcherb1173/helloworld/blob/master/%D0%A3%D1%80%D0%BE%D0%BA_7_1.ipynb\" target=\"_parent\"><img src=\"https://colab.research.google.com/assets/colab-badge.svg\" alt=\"Open In Colab\"/></a>"
      ]
    },
    {
      "cell_type": "markdown",
      "metadata": {
        "id": "tDgusxVfaHH1"
      },
      "source": [
        "## Необязательные аргументы"
      ]
    },
    {
      "cell_type": "markdown",
      "metadata": {
        "id": "B3lAUMZLaMLK"
      },
      "source": [
        "Предположим, что нам нужно в функции считать полную сумму заказа с чаевыми, в 90% случаев чаевые составляют 10%. Тогда мы можем прямо принять аргумент равным 10, если аргумент передается в функцию — процент перезапишется, если нет — останется."
      ]
    },
    {
      "cell_type": "code",
      "metadata": {
        "colab": {
          "base_uri": "https://localhost:8080/"
        },
        "id": "lWN9ccjUce10",
        "outputId": "64e5b49b-c26d-47e5-fd3d-8324b3f77dc1"
      },
      "source": [
        "def check(prices, tip=10):\n",
        "  sum_ = sum(prices)\n",
        "  total = sum_ * ( 100 + tip ) / 100\n",
        "\n",
        "  return total\n",
        "\n",
        "\n",
        "\n",
        "print(check([100, 300, 500]))\n",
        "print(check([100, 300, 500], 0))\n",
        "print(check([100, 300, 500], 20))"
      ],
      "execution_count": null,
      "outputs": [
        {
          "output_type": "stream",
          "text": [
            "990.0\n",
            "900.0\n",
            "1080.0\n"
          ],
          "name": "stdout"
        }
      ]
    },
    {
      "cell_type": "markdown",
      "metadata": {
        "id": "dIjRuvIpdydk"
      },
      "source": [
        "Значений по умолчанию может быть несколько. Например, мы считаем, сколько краски понадобится на площадь размером Ш × В. Но количество слоев краски и расход литров краски на метр могут тоже меняться."
      ]
    },
    {
      "cell_type": "code",
      "metadata": {
        "id": "FuuqOEv6d2BO",
        "colab": {
          "base_uri": "https://localhost:8080/"
        },
        "outputId": "82214e83-da89-42d6-a16a-bc7910e4b6fb"
      },
      "source": [
        "def paint_count(width, height, consumption=0.2, layers=2):\n",
        "  total = width * height * consumption * layers\n",
        "\n",
        "  return total\n",
        "\n",
        "# Такую функцию можно вызывать как с 2 аргументами, так и с 3 и даже 4\n",
        "\n",
        "print(paint_count(3, 4))\n",
        "print(paint_count(3, 4, 0.4))\n",
        "print(paint_count(3, 4, 0.4, 3))"
      ],
      "execution_count": null,
      "outputs": [
        {
          "output_type": "stream",
          "text": [
            "4.800000000000001\n",
            "9.600000000000001\n",
            "14.400000000000002\n"
          ],
          "name": "stdout"
        }
      ]
    },
    {
      "cell_type": "markdown",
      "metadata": {
        "id": "bEntHJ-4AV4n"
      },
      "source": [
        "## Распаковка и *args"
      ]
    },
    {
      "cell_type": "markdown",
      "metadata": {
        "id": "rhQVN-NZAZip"
      },
      "source": [
        "Итак,  распаковка аргументов. Рассмотрим пример из презентации:"
      ]
    },
    {
      "cell_type": "code",
      "metadata": {
        "colab": {
          "base_uri": "https://localhost:8080/",
          "height": 393
        },
        "id": "t3Hdq7erA15H",
        "outputId": "a6e27812-6790-4e61-9f7a-48d77539357c"
      },
      "source": [
        "def new_sum(*nums):\n",
        "  print(nums)\n",
        "\n",
        "  sum = 0\n",
        "\n",
        "  for n in nums:\n",
        "    sum += n\n",
        "\n",
        "  return sum\n",
        "\n",
        "\n",
        "# print(\"Hello\", \"World\")\n",
        "\n",
        "print(new_sum(\"Hello\", \"World\"))\n",
        "\n",
        "print(new_sum(1, 1, 1, 1, 1))\n",
        "\n",
        "print(new_sum(1, 2, 4, 8, 16, 32, 64, 128))"
      ],
      "execution_count": null,
      "outputs": [
        {
          "output_type": "stream",
          "name": "stdout",
          "text": [
            "('Hello', 'World')\n"
          ]
        },
        {
          "output_type": "error",
          "ename": "TypeError",
          "evalue": "unsupported operand type(s) for +=: 'int' and 'str'",
          "traceback": [
            "\u001b[0;31m---------------------------------------------------------------------------\u001b[0m",
            "\u001b[0;31mTypeError\u001b[0m                                 Traceback (most recent call last)",
            "\u001b[0;32m<ipython-input-1-01aec4e64e99>\u001b[0m in \u001b[0;36m<cell line: 14>\u001b[0;34m()\u001b[0m\n\u001b[1;32m     12\u001b[0m \u001b[0;31m# print(\"Hello\", \"World\")\u001b[0m\u001b[0;34m\u001b[0m\u001b[0;34m\u001b[0m\u001b[0m\n\u001b[1;32m     13\u001b[0m \u001b[0;34m\u001b[0m\u001b[0m\n\u001b[0;32m---> 14\u001b[0;31m \u001b[0mprint\u001b[0m\u001b[0;34m(\u001b[0m\u001b[0mnew_sum\u001b[0m\u001b[0;34m(\u001b[0m\u001b[0;34m\"Hello\"\u001b[0m\u001b[0;34m,\u001b[0m \u001b[0;34m\"World\"\u001b[0m\u001b[0;34m)\u001b[0m\u001b[0;34m)\u001b[0m\u001b[0;34m\u001b[0m\u001b[0;34m\u001b[0m\u001b[0m\n\u001b[0m\u001b[1;32m     15\u001b[0m \u001b[0;34m\u001b[0m\u001b[0m\n\u001b[1;32m     16\u001b[0m \u001b[0mprint\u001b[0m\u001b[0;34m(\u001b[0m\u001b[0mnew_sum\u001b[0m\u001b[0;34m(\u001b[0m\u001b[0;36m1\u001b[0m\u001b[0;34m,\u001b[0m \u001b[0;36m1\u001b[0m\u001b[0;34m,\u001b[0m \u001b[0;36m1\u001b[0m\u001b[0;34m,\u001b[0m \u001b[0;36m1\u001b[0m\u001b[0;34m,\u001b[0m \u001b[0;36m1\u001b[0m\u001b[0;34m)\u001b[0m\u001b[0;34m)\u001b[0m\u001b[0;34m\u001b[0m\u001b[0;34m\u001b[0m\u001b[0m\n",
            "\u001b[0;32m<ipython-input-1-01aec4e64e99>\u001b[0m in \u001b[0;36mnew_sum\u001b[0;34m(*nums)\u001b[0m\n\u001b[1;32m      5\u001b[0m \u001b[0;34m\u001b[0m\u001b[0m\n\u001b[1;32m      6\u001b[0m   \u001b[0;32mfor\u001b[0m \u001b[0mn\u001b[0m \u001b[0;32min\u001b[0m \u001b[0mnums\u001b[0m\u001b[0;34m:\u001b[0m\u001b[0;34m\u001b[0m\u001b[0;34m\u001b[0m\u001b[0m\n\u001b[0;32m----> 7\u001b[0;31m     \u001b[0msum\u001b[0m \u001b[0;34m+=\u001b[0m \u001b[0mn\u001b[0m\u001b[0;34m\u001b[0m\u001b[0;34m\u001b[0m\u001b[0m\n\u001b[0m\u001b[1;32m      8\u001b[0m \u001b[0;34m\u001b[0m\u001b[0m\n\u001b[1;32m      9\u001b[0m   \u001b[0;32mreturn\u001b[0m \u001b[0msum\u001b[0m\u001b[0;34m\u001b[0m\u001b[0;34m\u001b[0m\u001b[0m\n",
            "\u001b[0;31mTypeError\u001b[0m: unsupported operand type(s) for +=: 'int' and 'str'"
          ]
        }
      ]
    },
    {
      "cell_type": "markdown",
      "metadata": {
        "id": "IHnojk6NBqsX"
      },
      "source": [
        "На самом деле это почти всё, что можно сказать о распаковке, поэтому давайте посмотрим еще на один пример:"
      ]
    },
    {
      "cell_type": "code",
      "metadata": {
        "colab": {
          "base_uri": "https://localhost:8080/"
        },
        "id": "kWDao33uBu_O",
        "outputId": "76bd766d-9967-4530-e37f-944cf623ec64"
      },
      "source": [
        "def longest_word(*words):\n",
        "  leader = \"\"\n",
        "\n",
        "  for word in words:\n",
        "    if len(word) > len(leader):\n",
        "      leader = word\n",
        "\n",
        "  return leader\n",
        "\n",
        "print(longest_word(\"Ретро\", \"Бэклог\", \"Скрам\", \"Достопримечательность\"))"
      ],
      "execution_count": null,
      "outputs": [
        {
          "output_type": "stream",
          "text": [
            "Достопримечательность123\n"
          ],
          "name": "stdout"
        }
      ]
    },
    {
      "cell_type": "markdown",
      "metadata": {
        "id": "IHierb0vCgJb"
      },
      "source": [
        "Мы поработали со строками и числами, давайте поработаем со списками и определим самый длинный список."
      ]
    },
    {
      "cell_type": "code",
      "metadata": {
        "id": "Ft0jksTEDnXN",
        "colab": {
          "base_uri": "https://localhost:8080/"
        },
        "outputId": "5c01ca10-37dc-49fb-a097-ec0ed286fd5e"
      },
      "source": [
        "def longest_list(*lists):\n",
        "  leader = []\n",
        "\n",
        "  for list_ in lists:\n",
        "    if len(list_) > len(leader):\n",
        "      leader = list_\n",
        "\n",
        "  return leader\n",
        "\n",
        "\n",
        "print(longest_list([1], [1,2,3], [1,2]))"
      ],
      "execution_count": null,
      "outputs": [
        {
          "output_type": "stream",
          "text": [
            "[1, 2, 3]\n"
          ],
          "name": "stdout"
        }
      ]
    },
    {
      "cell_type": "markdown",
      "metadata": {
        "id": "WfwOR-PTQ8Ie"
      },
      "source": [
        "Наконец, если нам нужно принимать в функцию и список аргументов, и обычный аргумент, мы пишем сперва позиционный аргумент, а потом наш список, вот так:"
      ]
    },
    {
      "cell_type": "code",
      "metadata": {
        "id": "1lOMtC4SRIFd",
        "colab": {
          "base_uri": "https://localhost:8080/",
          "height": 35
        },
        "outputId": "053f53f2-6037-49cc-d247-ca0df6b2d0b2"
      },
      "source": [
        "def remove_from_string(string, *symbols_to_remove):\n",
        "  for symbol in symbols_to_remove:\n",
        "    string = string.replace(symbol,\"\")\n",
        "\n",
        "  return string\n",
        "\n",
        "remove_from_string(\"О! Смотри, можно удалить все знаки препинания сразу?\", \"?\", \"!\", \",\", \".\", \"–\")\n",
        "# remove_from_string(\"О! Смотри, можно удалить все знаки препинания сразу?\", \"?\", \"!\", \",\", \".\", \"–\", \" \")"
      ],
      "execution_count": null,
      "outputs": [
        {
          "output_type": "execute_result",
          "data": {
            "application/vnd.google.colaboratory.intrinsic+json": {
              "type": "string"
            },
            "text/plain": [
              "'О Смотри можно удалить все знаки препинания сразу'"
            ]
          },
          "metadata": {},
          "execution_count": 11
        }
      ]
    },
    {
      "cell_type": "markdown",
      "metadata": {
        "id": "k3MFaRvpEHJY"
      },
      "source": [
        "#### Задача эпизода 2"
      ]
    },
    {
      "cell_type": "markdown",
      "metadata": {
        "id": "wmZLlR9mESSH"
      },
      "source": [
        "Создать функцию, которая вычисляет среднее и возвращает его округленным до первого знака."
      ]
    },
    {
      "cell_type": "code",
      "metadata": {
        "id": "JaqH4OuoPgp7",
        "colab": {
          "base_uri": "https://localhost:8080/"
        },
        "outputId": "ad687c4b-5152-47b1-e8db-55634574816a"
      },
      "source": [
        "def avg(*nums):\n",
        "  count = len(nums)\n",
        "  nums_sum = sum(nums)\n",
        "\n",
        "  return round(nums_sum / count, 1)\n",
        "\n",
        "print(avg(1,2,3,4,5))\n",
        "print(avg(1,2,3,4,5,10))"
      ],
      "execution_count": null,
      "outputs": [
        {
          "output_type": "stream",
          "text": [
            "3.0\n",
            "4.2\n"
          ],
          "name": "stdout"
        }
      ]
    }
  ]
}